{
  "cells": [
    {
      "cell_type": "markdown",
      "metadata": {
        "id": "view-in-github",
        "colab_type": "text"
      },
      "source": [
        "<a href=\"https://colab.research.google.com/github/Nivesri03/DSI/blob/main/copy_of_100_Numpy_task.ipynb\" target=\"_parent\"><img src=\"https://colab.research.google.com/assets/colab-badge.svg\" alt=\"Open In Colab\"/></a>"
      ]
    },
    {
      "cell_type": "markdown",
      "metadata": {
        "id": "f44a2f2b"
      },
      "source": [
        "# 100 numpy exercises\n"
      ],
      "id": "f44a2f2b"
    },
    {
      "cell_type": "markdown",
      "metadata": {
        "id": "0fe3d529"
      },
      "source": [
        "File automatically generated. See the documentation to update questions/answers/hints programmatically."
      ],
      "id": "0fe3d529"
    },
    {
      "cell_type": "markdown",
      "metadata": {
        "id": "23296a93"
      },
      "source": [
        "Run the `initialize.py` module, then for each question you can query the\n",
        "answer or an hint with `hint(n)` or `answer(n)` for `n` question number."
      ],
      "id": "23296a93"
    },
    {
      "cell_type": "code",
      "execution_count": null,
      "metadata": {
        "id": "530390cf"
      },
      "outputs": [],
      "source": [
        "%run initialise.py"
      ],
      "id": "530390cf"
    },
    {
      "cell_type": "markdown",
      "metadata": {
        "id": "96443564"
      },
      "source": [
        "#### 1. Import the numpy package under the name `np` (★☆☆)"
      ],
      "id": "96443564"
    },
    {
      "cell_type": "code",
      "execution_count": null,
      "metadata": {
        "id": "ffe1047e"
      },
      "outputs": [],
      "source": [
        "import numpy as np\n"
      ],
      "id": "ffe1047e"
    },
    {
      "cell_type": "markdown",
      "metadata": {
        "id": "c807bf1d"
      },
      "source": [
        "#### 2. Print the numpy version and the configuration (★☆☆)"
      ],
      "id": "c807bf1d"
    },
    {
      "cell_type": "code",
      "execution_count": null,
      "metadata": {
        "colab": {
          "base_uri": "https://localhost:8080/"
        },
        "id": "f396b717",
        "outputId": "17757838-d8fa-41ff-a203-8b829ab1b5b9"
      },
      "outputs": [
        {
          "name": "stdout",
          "output_type": "stream",
          "text": [
            "NumPy Version: 1.23.5\n",
            "NumPy Configuration:\n",
            "openblas64__info:\n",
            "    libraries = ['openblas64_', 'openblas64_']\n",
            "    library_dirs = ['/usr/local/lib']\n",
            "    language = c\n",
            "    define_macros = [('HAVE_CBLAS', None), ('BLAS_SYMBOL_SUFFIX', '64_'), ('HAVE_BLAS_ILP64', None)]\n",
            "    runtime_library_dirs = ['/usr/local/lib']\n",
            "blas_ilp64_opt_info:\n",
            "    libraries = ['openblas64_', 'openblas64_']\n",
            "    library_dirs = ['/usr/local/lib']\n",
            "    language = c\n",
            "    define_macros = [('HAVE_CBLAS', None), ('BLAS_SYMBOL_SUFFIX', '64_'), ('HAVE_BLAS_ILP64', None)]\n",
            "    runtime_library_dirs = ['/usr/local/lib']\n",
            "openblas64__lapack_info:\n",
            "    libraries = ['openblas64_', 'openblas64_']\n",
            "    library_dirs = ['/usr/local/lib']\n",
            "    language = c\n",
            "    define_macros = [('HAVE_CBLAS', None), ('BLAS_SYMBOL_SUFFIX', '64_'), ('HAVE_BLAS_ILP64', None), ('HAVE_LAPACKE', None)]\n",
            "    runtime_library_dirs = ['/usr/local/lib']\n",
            "lapack_ilp64_opt_info:\n",
            "    libraries = ['openblas64_', 'openblas64_']\n",
            "    library_dirs = ['/usr/local/lib']\n",
            "    language = c\n",
            "    define_macros = [('HAVE_CBLAS', None), ('BLAS_SYMBOL_SUFFIX', '64_'), ('HAVE_BLAS_ILP64', None), ('HAVE_LAPACKE', None)]\n",
            "    runtime_library_dirs = ['/usr/local/lib']\n",
            "Supported SIMD extensions in this NumPy install:\n",
            "    baseline = SSE,SSE2,SSE3\n",
            "    found = SSSE3,SSE41,POPCNT,SSE42,AVX,F16C,FMA3,AVX2\n",
            "    not found = AVX512F,AVX512CD,AVX512_KNL,AVX512_KNM,AVX512_SKX,AVX512_CLX,AVX512_CNL,AVX512_ICL\n",
            "None\n"
          ]
        }
      ],
      "source": [
        "import numpy as np\n",
        "print(\"NumPy Version:\", np.__version__)\n",
        "print(\"NumPy Configuration:\")\n",
        "print(np.show_config())\n"
      ],
      "id": "f396b717"
    },
    {
      "cell_type": "markdown",
      "metadata": {
        "id": "572c1bdb"
      },
      "source": [
        "#### 3. Create a null vector of size 10 (★☆☆)"
      ],
      "id": "572c1bdb"
    },
    {
      "cell_type": "code",
      "execution_count": null,
      "metadata": {
        "colab": {
          "base_uri": "https://localhost:8080/"
        },
        "id": "31c9f6a5",
        "outputId": "8738928a-6db9-49d7-b3ac-49a5ec734e29"
      },
      "outputs": [
        {
          "name": "stdout",
          "output_type": "stream",
          "text": [
            "[0. 0. 0. 0. 0. 0. 0. 0. 0. 0.]\n"
          ]
        }
      ],
      "source": [
        "import numpy as np\n",
        "\n",
        "null_vector = np.zeros(10)\n",
        "print(null_vector)\n"
      ],
      "id": "31c9f6a5"
    },
    {
      "cell_type": "markdown",
      "metadata": {
        "id": "337e6e36"
      },
      "source": [
        "#### 4. how to find the memory size of any arrary?\n"
      ],
      "id": "337e6e36"
    },
    {
      "cell_type": "code",
      "execution_count": null,
      "metadata": {
        "colab": {
          "base_uri": "https://localhost:8080/"
        },
        "id": "31e8ec2e",
        "outputId": "c008e0a4-8c5d-42f8-ade3-81f3ef662d20"
      },
      "outputs": [
        {
          "name": "stdout",
          "output_type": "stream",
          "text": [
            "Memory size of the array: 40 bytes\n"
          ]
        }
      ],
      "source": [
        "import numpy as np\n",
        "my_array = np.array([1, 2, 3, 4, 5])\n",
        "memory_size = my_array.nbytes\n",
        "print(f\"Memory size of the array: {memory_size} bytes\")\n"
      ],
      "id": "31e8ec2e"
    },
    {
      "cell_type": "markdown",
      "metadata": {
        "id": "166079c8"
      },
      "source": [
        "#### 5. How to get the documentation of the numpy add function from the command line? (★☆☆)"
      ],
      "id": "166079c8"
    },
    {
      "cell_type": "code",
      "execution_count": null,
      "metadata": {
        "colab": {
          "base_uri": "https://localhost:8080/",
          "height": 141
        },
        "id": "593cd80f",
        "outputId": "2b4d73ca-8038-46dc-9aee-ae6711218903"
      },
      "outputs": [
        {
          "ename": "SyntaxError",
          "evalue": "ignored",
          "output_type": "error",
          "traceback": [
            "\u001b[0;36m  File \u001b[0;32m\"<ipython-input-5-708ff5bb7112>\"\u001b[0;36m, line \u001b[0;32m1\u001b[0m\n\u001b[0;31m    pydoc numpy.add\u001b[0m\n\u001b[0m          ^\u001b[0m\n\u001b[0;31mSyntaxError\u001b[0m\u001b[0;31m:\u001b[0m invalid syntax\n"
          ]
        }
      ],
      "source": [
        "\n"
      ],
      "id": "593cd80f"
    },
    {
      "cell_type": "markdown",
      "metadata": {
        "id": "3add7101"
      },
      "source": [
        "#### 6. Create a null vector of size 10 but the fifth value which is 1 (★☆☆)"
      ],
      "id": "3add7101"
    },
    {
      "cell_type": "code",
      "execution_count": null,
      "metadata": {
        "id": "2edf3c42"
      },
      "outputs": [],
      "source": [
        "import numpy as np\n",
        "\n",
        "# Create a null vector of size 10\n",
        "null_vector = np.zeros(10)\n",
        "\n",
        "# Set the fifth value to 1\n",
        "null_vector[4] = 1\n",
        "\n",
        "print(null_vector)\n"
      ],
      "id": "2edf3c42"
    },
    {
      "cell_type": "markdown",
      "metadata": {
        "id": "cfc46304"
      },
      "source": [
        "#### 7. Create a vector with values ranging from 10 to 49 (★☆☆)"
      ],
      "id": "cfc46304"
    },
    {
      "cell_type": "code",
      "execution_count": null,
      "metadata": {
        "colab": {
          "base_uri": "https://localhost:8080/"
        },
        "id": "d8b86640",
        "outputId": "a780798a-153b-44db-cf4d-4c12d8e282df"
      },
      "outputs": [
        {
          "name": "stdout",
          "output_type": "stream",
          "text": [
            "[10, 11, 12, 13, 14, 15, 16, 17, 18, 19, 20, 21, 22, 23, 24, 25, 26, 27, 28, 29, 30, 31, 32, 33, 34, 35, 36, 37, 38, 39, 40, 41, 42, 43, 44, 45, 46, 47, 48, 49]\n"
          ]
        }
      ],
      "source": [
        "# Using a list comprehension\n",
        "vector = [x for x in range(10, 50)]\n",
        "print(vector)\n"
      ],
      "id": "d8b86640"
    },
    {
      "cell_type": "markdown",
      "metadata": {
        "id": "0cc200be"
      },
      "source": [
        "#### 8. Reverse a vector (first element becomes last) (★☆☆)"
      ],
      "id": "0cc200be"
    },
    {
      "cell_type": "code",
      "execution_count": null,
      "metadata": {
        "colab": {
          "base_uri": "https://localhost:8080/"
        },
        "id": "ec044bb5",
        "outputId": "202baadd-0a75-4719-8cea-fb90f42d873d"
      },
      "outputs": [
        {
          "name": "stdout",
          "output_type": "stream",
          "text": [
            "[5, 4, 3, 2, 1]\n"
          ]
        }
      ],
      "source": [
        "# Using slicing to reverse a list\n",
        "vector = [1, 2, 3, 4, 5]\n",
        "reversed_vector = vector[::-1]\n",
        "print(reversed_vector)\n"
      ],
      "id": "ec044bb5"
    },
    {
      "cell_type": "markdown",
      "metadata": {
        "id": "29d9ede4"
      },
      "source": [
        "#### 9. Create a 3x3 matrix with values ranging from 0 to 8 (★☆☆)"
      ],
      "id": "29d9ede4"
    },
    {
      "cell_type": "code",
      "execution_count": null,
      "metadata": {
        "colab": {
          "base_uri": "https://localhost:8080/"
        },
        "id": "d9e39043",
        "outputId": "d202773c-fe71-4aa3-f0ce-a5accb49c4f6"
      },
      "outputs": [
        {
          "name": "stdout",
          "output_type": "stream",
          "text": [
            "[[0 1 2]\n",
            " [3 4 5]\n",
            " [6 7 8]]\n",
            "[0, 1, 2]\n",
            "[3, 4, 5]\n",
            "[6, 7, 8]\n"
          ]
        }
      ],
      "source": [
        "import numpy as np\n",
        "\n",
        "# Create a 3x3 matrix with values ranging from 0 to 8\n",
        "matrix = np.arange(9).reshape(3, 3)\n",
        "\n",
        "print(matrix)\n",
        "# Create a 3x3 matrix with values ranging from 0 to 8 using nested lists\n",
        "matrix = [[0, 1, 2],\n",
        "          [3, 4, 5],\n",
        "          [6, 7, 8]]\n",
        "\n",
        "for row in matrix:\n",
        "    print(row)\n"
      ],
      "id": "d9e39043"
    },
    {
      "cell_type": "markdown",
      "metadata": {
        "id": "88905ceb"
      },
      "source": [
        "#### 10. Find indices of non-zero elements from [1,2,0,0,4,0] (★☆☆)"
      ],
      "id": "88905ceb"
    },
    {
      "cell_type": "code",
      "execution_count": null,
      "metadata": {
        "colab": {
          "base_uri": "https://localhost:8080/"
        },
        "id": "b2f3c90a",
        "outputId": "9a6f91de-409d-464e-a835-7d594fe91a2e"
      },
      "outputs": [
        {
          "name": "stdout",
          "output_type": "stream",
          "text": [
            "[0, 1, 4]\n"
          ]
        }
      ],
      "source": [
        "original_list = [1, 2, 0, 0, 4, 0]\n",
        "\n",
        "# Using a list comprehension to find the indices of non-zero elements\n",
        "non_zero_indices = [index for index, value in enumerate(original_list) if value != 0]\n",
        "\n",
        "print(non_zero_indices)\n"
      ],
      "id": "b2f3c90a"
    },
    {
      "cell_type": "markdown",
      "metadata": {
        "id": "49603e91"
      },
      "source": [
        "#### 11. Create a 3x3 identity matrix (★☆☆)"
      ],
      "id": "49603e91"
    },
    {
      "cell_type": "code",
      "execution_count": null,
      "metadata": {
        "colab": {
          "base_uri": "https://localhost:8080/"
        },
        "id": "5b607b5c",
        "outputId": "4b463139-5824-4511-c54d-9db94f9b41aa"
      },
      "outputs": [
        {
          "name": "stdout",
          "output_type": "stream",
          "text": [
            "[[1. 0. 0.]\n",
            " [0. 1. 0.]\n",
            " [0. 0. 1.]]\n"
          ]
        }
      ],
      "source": [
        "import numpy as np\n",
        "\n",
        "# Create a 3x3 identity matrix\n",
        "identity_matrix = np.identity(3)\n",
        "\n",
        "print(identity_matrix)\n"
      ],
      "id": "5b607b5c"
    },
    {
      "cell_type": "markdown",
      "metadata": {
        "id": "e15c249a"
      },
      "source": [
        "#### 12. Create a 3x3x3 array with random values (★☆☆)"
      ],
      "id": "e15c249a"
    },
    {
      "cell_type": "code",
      "execution_count": null,
      "metadata": {
        "colab": {
          "base_uri": "https://localhost:8080/"
        },
        "id": "ab21ed50",
        "outputId": "0bf59857-2906-4fae-adc5-6833823f44ec"
      },
      "outputs": [
        {
          "name": "stdout",
          "output_type": "stream",
          "text": [
            "[[[0.63716165 0.18860405 0.42668686]\n",
            "  [0.22024829 0.3511399  0.73780718]\n",
            "  [0.40602373 0.97026115 0.83893096]]\n",
            "\n",
            " [[0.43440853 0.74953832 0.50059295]\n",
            "  [0.66499123 0.55111674 0.55861071]\n",
            "  [0.75061809 0.81159306 0.84148984]]\n",
            "\n",
            " [[0.59836215 0.08722136 0.07572026]\n",
            "  [0.35474566 0.04549214 0.71582218]\n",
            "  [0.89222913 0.97761765 0.1238732 ]]]\n"
          ]
        }
      ],
      "source": [
        "import numpy as np\n",
        "\n",
        "# Create a 3x3x3 array with random values between 0 and 1\n",
        "random_array = np.random.rand(3, 3, 3)\n",
        "\n",
        "print(random_array)\n"
      ],
      "id": "ab21ed50"
    },
    {
      "cell_type": "markdown",
      "metadata": {
        "id": "157a129c"
      },
      "source": [
        "#### 13. Create a 10x10 array with random values and find the minimum and maximum values (★☆☆)"
      ],
      "id": "157a129c"
    },
    {
      "cell_type": "code",
      "execution_count": null,
      "metadata": {
        "colab": {
          "base_uri": "https://localhost:8080/"
        },
        "id": "c0066de5",
        "outputId": "50769aae-105b-47cb-9c6e-a0c06cf8fbd8"
      },
      "outputs": [
        {
          "name": "stdout",
          "output_type": "stream",
          "text": [
            "Random Array:\n",
            "[[0.01790699 0.83777142 0.99888937 0.86328501 0.63516648 0.82009802\n",
            "  0.91639467 0.52147854 0.12308863 0.266509  ]\n",
            " [0.61852455 0.27346894 0.93501392 0.83472275 0.99279617 0.49669024\n",
            "  0.24306893 0.02632604 0.46665189 0.95411026]\n",
            " [0.27940932 0.30504922 0.2712144  0.85988796 0.46847087 0.66559216\n",
            "  0.41190196 0.41290745 0.3721174  0.88717785]\n",
            " [0.79456852 0.37998534 0.5031181  0.52489872 0.78442589 0.60178563\n",
            "  0.33074747 0.18386728 0.47157674 0.33087769]\n",
            " [0.99402933 0.0715973  0.971921   0.92645895 0.49235127 0.28157754\n",
            "  0.99014874 0.80037513 0.02814361 0.52983347]\n",
            " [0.22261245 0.25425021 0.81664049 0.39426137 0.05483337 0.82916944\n",
            "  0.39617545 0.96786002 0.13397544 0.04484175]\n",
            " [0.28834567 0.1965759  0.98091073 0.5124602  0.1641703  0.64990575\n",
            "  0.85883116 0.36704628 0.69597561 0.5953082 ]\n",
            " [0.00869679 0.59156895 0.00655018 0.05541357 0.66717512 0.65504052\n",
            "  0.60568946 0.5537451  0.81339752 0.55529314]\n",
            " [0.87126246 0.24545371 0.62553704 0.32648461 0.25134971 0.16104818\n",
            "  0.7411732  0.8377088  0.93010443 0.70236608]\n",
            " [0.92297586 0.81347157 0.27484242 0.33291125 0.30823899 0.49724596\n",
            "  0.66241877 0.06338691 0.62247632 0.45914002]]\n",
            "Minimum value: 0.006550175353889021\n",
            "Maximum value: 0.9988893718042402\n"
          ]
        }
      ],
      "source": [
        "import numpy as np\n",
        "\n",
        "# Create a 10x10 array with random values between 0 and 1\n",
        "random_array = np.random.rand(10, 10)\n",
        "\n",
        "# Find the minimum and maximum values in the array\n",
        "min_value = random_array.min()\n",
        "max_value = random_array.max()\n",
        "\n",
        "print(\"Random Array:\")\n",
        "print(random_array)\n",
        "print(f\"Minimum value: {min_value}\")\n",
        "print(f\"Maximum value: {max_value}\")\n"
      ],
      "id": "c0066de5"
    },
    {
      "cell_type": "markdown",
      "metadata": {
        "id": "d92d7b32"
      },
      "source": [
        "#### 14. Create a random vector of size 30 and find the mean value (★☆☆)"
      ],
      "id": "d92d7b32"
    },
    {
      "cell_type": "code",
      "execution_count": null,
      "metadata": {
        "colab": {
          "base_uri": "https://localhost:8080/"
        },
        "id": "9672d023",
        "outputId": "df4d3ac1-27b2-4e17-95a2-c0a7aaa1880a"
      },
      "outputs": [
        {
          "name": "stdout",
          "output_type": "stream",
          "text": [
            "Random Vector:\n",
            "[0.5419293158063554, 0.9041529905045975, 0.5040863981616409, 0.4427034974882702, 0.08206124897072253, 0.5849826349776277, 0.010135613067294269, 0.028687864703091148, 0.2984163431603709, 0.600118964484792, 0.533487667250583, 0.6598178270221854, 0.053236889319251635, 0.15241083666938415, 0.9521140950585218, 0.5565264927868091, 0.985851277693962, 0.7317415554600316, 0.5440152242519155, 0.5904288940788811, 0.013998059636986193, 0.4506985421843266, 0.03157986353593756, 0.6005310563890411, 0.11956307228074858, 0.13200838482018606, 0.2015387330362205, 0.5040742365505937, 0.507059984667184, 0.685462730169056]\n",
            "Mean value: 0.4334473431395522\n"
          ]
        }
      ],
      "source": [
        "import random\n",
        "\n",
        "# Create a random vector of size 30\n",
        "random_vector = [random.random() for _ in range(30)]\n",
        "\n",
        "# Calculate the mean value\n",
        "mean_value = sum(random_vector) / len(random_vector)\n",
        "\n",
        "print(\"Random Vector:\")\n",
        "print(random_vector)\n",
        "print(f\"Mean value: {mean_value}\")\n"
      ],
      "id": "9672d023"
    },
    {
      "cell_type": "markdown",
      "metadata": {
        "id": "f361efc0"
      },
      "source": [
        "#### 15. Create a 2d array with 1 on the border and 0 inside (★☆☆)"
      ],
      "id": "f361efc0"
    },
    {
      "cell_type": "code",
      "execution_count": null,
      "metadata": {
        "colab": {
          "base_uri": "https://localhost:8080/"
        },
        "id": "a55b6666",
        "outputId": "bfff1afd-f298-42d9-b21b-ef4f0152e0f2"
      },
      "outputs": [
        {
          "name": "stdout",
          "output_type": "stream",
          "text": [
            "[1, 1, 1, 1, 1]\n",
            "[1, 0, 0, 0, 1]\n",
            "[1, 0, 0, 0, 1]\n",
            "[1, 0, 0, 0, 1]\n",
            "[1, 1, 1, 1, 1]\n"
          ]
        }
      ],
      "source": [
        "# Specify the dimensions of the 2D array\n",
        "rows = 5\n",
        "cols = 5\n",
        "\n",
        "# Create a 2D array with 1 on the border and 0 inside\n",
        "array = [[1 if i == 0 or i == rows - 1 or j == 0 or j == cols - 1 else 0 for j in range(cols)] for i in range(rows)]\n",
        "\n",
        "# Print the resulting array\n",
        "for row in array:\n",
        "    print(row)\n"
      ],
      "id": "a55b6666"
    },
    {
      "cell_type": "markdown",
      "metadata": {
        "id": "475808cb"
      },
      "source": [
        "#### 16. How to add a border (filled with 0's) around an existing array? (★☆☆)"
      ],
      "id": "475808cb"
    },
    {
      "cell_type": "code",
      "execution_count": null,
      "metadata": {
        "colab": {
          "base_uri": "https://localhost:8080/"
        },
        "id": "b2df3a8a",
        "outputId": "00c08319-4fdf-4bef-b6ba-3bca68c0ffa7"
      },
      "outputs": [
        {
          "name": "stdout",
          "output_type": "stream",
          "text": [
            "Existing Array:\n",
            "[[1 2 3]\n",
            " [4 5 6]\n",
            " [7 8 9]]\n",
            "\n",
            "New Array with Border:\n",
            "[[0 0 0 0 0]\n",
            " [0 1 2 3 0]\n",
            " [0 4 5 6 0]\n",
            " [0 7 8 9 0]\n",
            " [0 0 0 0 0]]\n"
          ]
        }
      ],
      "source": [
        "import numpy as np\n",
        "\n",
        "# Create an example 2D array (you can replace this with your existing array)\n",
        "existing_array = np.array([[1, 2, 3],\n",
        "                           [4, 5, 6],\n",
        "                           [7, 8, 9]])\n",
        "\n",
        "# Get the dimensions of the existing array\n",
        "original_rows, original_cols = existing_array.shape\n",
        "\n",
        "# Define the desired dimensions for the new array (e.g., adding a border of 0's)\n",
        "border_width = 1\n",
        "new_rows = original_rows + 2 * border_width\n",
        "new_cols = original_cols + 2 * border_width\n",
        "\n",
        "# Create a new array filled with 0's\n",
        "new_array = np.zeros((new_rows, new_cols), dtype=existing_array.dtype)\n",
        "\n",
        "# Place the existing array in the center of the new array\n",
        "new_array[border_width:border_width + original_rows, border_width:border_width + original_cols] = existing_array\n",
        "\n",
        "print(\"Existing Array:\")\n",
        "print(existing_array)\n",
        "\n",
        "print(\"\\nNew Array with Border:\")\n",
        "print(new_array)\n"
      ],
      "id": "b2df3a8a"
    },
    {
      "cell_type": "markdown",
      "metadata": {
        "id": "1af07d85"
      },
      "source": [
        "#### 17. What is the result of the following expression? (★☆☆)\n",
        "```python\n",
        "0 * np.nan\n",
        "np.nan == np.nan\n",
        "np.inf > np.nan\n",
        "np.nan - np.nan\n",
        "np.nan in set([np.nan])\n",
        "0.3 == 3 * 0.1\n",
        "```"
      ],
      "id": "1af07d85"
    },
    {
      "cell_type": "code",
      "execution_count": null,
      "metadata": {
        "colab": {
          "base_uri": "https://localhost:8080/",
          "height": 141
        },
        "id": "109cf327",
        "outputId": "c5fc9fb7-8b72-4698-b573-d1140cede830"
      },
      "outputs": [
        {
          "ename": "SyntaxError",
          "evalue": "ignored",
          "output_type": "error",
          "traceback": [
            "\u001b[0;36m  File \u001b[0;32m\"<ipython-input-11-f08e70d80fa1>\"\u001b[0;36m, line \u001b[0;32m1\u001b[0m\n\u001b[0;31m    0 * np.nan results in np.nan.\u001b[0m\n\u001b[0m               ^\u001b[0m\n\u001b[0;31mSyntaxError\u001b[0m\u001b[0;31m:\u001b[0m invalid syntax\n"
          ]
        }
      ],
      "source": [
        "0 * np.nan results in np.nan.\n",
        "np.nan == np.nan results in False.\n",
        "np.inf > np.nan results in False.\n",
        "np.nan - np.nan results in np.nan.\n",
        "np.nan in set([np.nan]) results in True.\n",
        "0.3 == 3 * 0.1 results in True"
      ],
      "id": "109cf327"
    },
    {
      "cell_type": "markdown",
      "metadata": {
        "id": "6a235316"
      },
      "source": [
        "#### 18. Create a 5x5 matrix with values 1,2,3,4 just below the diagonal (★☆☆)"
      ],
      "id": "6a235316"
    },
    {
      "cell_type": "code",
      "execution_count": null,
      "metadata": {
        "colab": {
          "base_uri": "https://localhost:8080/"
        },
        "id": "f2e6cfa6",
        "outputId": "cd339ee5-736a-4ed5-e01b-85b2517c5779"
      },
      "outputs": [
        {
          "name": "stdout",
          "output_type": "stream",
          "text": [
            "[[0 0 0 0 0]\n",
            " [1 0 0 0 0]\n",
            " [0 2 0 0 0]\n",
            " [0 0 3 0 0]\n",
            " [0 0 0 4 0]]\n"
          ]
        }
      ],
      "source": [
        "import numpy as np\n",
        "\n",
        "# Create a 5x5 matrix with values 1, 2, 3, and 4 below the diagonal\n",
        "matrix = np.diag([1, 2, 3, 4], k=-1)\n",
        "\n",
        "print(matrix)\n",
        "\n"
      ],
      "id": "f2e6cfa6"
    },
    {
      "cell_type": "markdown",
      "metadata": {
        "id": "25362e98"
      },
      "source": [
        "#### 19. Create a 8x8 matrix and fill it with a checkerboard pattern (★☆☆)"
      ],
      "id": "25362e98"
    },
    {
      "cell_type": "code",
      "execution_count": null,
      "metadata": {
        "colab": {
          "base_uri": "https://localhost:8080/"
        },
        "id": "cabdf298",
        "outputId": "4d90d3da-96d3-4237-94f8-4a7c389b8e0b"
      },
      "outputs": [
        {
          "name": "stdout",
          "output_type": "stream",
          "text": [
            "[[0 1 0 1 0 1 0 1]\n",
            " [1 0 1 0 1 0 1 0]\n",
            " [0 1 0 1 0 1 0 1]\n",
            " [1 0 1 0 1 0 1 0]\n",
            " [0 1 0 1 0 1 0 1]\n",
            " [1 0 1 0 1 0 1 0]\n",
            " [0 1 0 1 0 1 0 1]\n",
            " [1 0 1 0 1 0 1 0]]\n"
          ]
        }
      ],
      "source": [
        "import numpy as np\n",
        "\n",
        "# Create an 8x8 matrix filled with a checkerboard pattern\n",
        "checkerboard = np.zeros((8, 8), dtype=int)\n",
        "checkerboard[1::2, ::2] = 1\n",
        "checkerboard[::2, 1::2] = 1\n",
        "\n",
        "print(checkerboard)\n"
      ],
      "id": "cabdf298"
    },
    {
      "cell_type": "markdown",
      "metadata": {
        "id": "6431e977"
      },
      "source": [
        "#### 20. Consider a (6,7,8) shape array, what is the index (x,y,z) of the 100th element? (★☆☆)"
      ],
      "id": "6431e977"
    },
    {
      "cell_type": "code",
      "execution_count": null,
      "metadata": {
        "colab": {
          "base_uri": "https://localhost:8080/"
        },
        "id": "de8b0245",
        "outputId": "0fe89274-e1fe-4fe4-f06f-c8254138ebfd"
      },
      "outputs": [
        {
          "name": "stdout",
          "output_type": "stream",
          "text": [
            "The index of the 100th element is: (1, 5, 3)\n"
          ]
        }
      ],
      "source": [
        "import numpy as np\n",
        "\n",
        "# Define the shape of the array\n",
        "shape = (6, 7, 8)\n",
        "\n",
        "# Total number of elements in the array\n",
        "total_elements = np.prod(shape)\n",
        "\n",
        "# Find the index of the 100th element\n",
        "index_100 = np.unravel_index(99, shape)\n",
        "\n",
        "print(f\"The index of the 100th element is: {index_100}\")\n",
        "\n"
      ],
      "id": "de8b0245"
    },
    {
      "cell_type": "markdown",
      "metadata": {
        "id": "31abe6fe"
      },
      "source": [
        "#### 21. Create a checkerboard 8x8 matrix using the tile function (★☆☆)"
      ],
      "id": "31abe6fe"
    },
    {
      "cell_type": "code",
      "execution_count": null,
      "metadata": {
        "colab": {
          "base_uri": "https://localhost:8080/"
        },
        "id": "6da26fd3",
        "outputId": "8e5e5cc5-12a1-4afb-9ded-e8c4e9d1e279"
      },
      "outputs": [
        {
          "name": "stdout",
          "output_type": "stream",
          "text": [
            "[[0 1 0 1 0 1 0 1]\n",
            " [1 0 1 0 1 0 1 0]\n",
            " [0 1 0 1 0 1 0 1]\n",
            " [1 0 1 0 1 0 1 0]\n",
            " [0 1 0 1 0 1 0 1]\n",
            " [1 0 1 0 1 0 1 0]\n",
            " [0 1 0 1 0 1 0 1]\n",
            " [1 0 1 0 1 0 1 0]]\n"
          ]
        }
      ],
      "source": [
        "\n",
        "import numpy as np\n",
        "\n",
        "checkerboard = np.tile([[0, 1], [1, 0]], (4, 4))\n",
        "print(checkerboard)"
      ],
      "id": "6da26fd3"
    },
    {
      "cell_type": "markdown",
      "metadata": {
        "id": "fd88b3f4"
      },
      "source": [
        "#### 22. Normalize a 5x5 random matrix (★☆☆)"
      ],
      "id": "fd88b3f4"
    },
    {
      "cell_type": "code",
      "execution_count": null,
      "metadata": {
        "colab": {
          "background_save": true
        },
        "id": "ee6ced60",
        "outputId": "abdd672b-c9f0-4e26-fb41-65138992b4fd"
      },
      "outputs": [
        {
          "name": "stdout",
          "output_type": "stream",
          "text": [
            "[[0.2776501  0.09275359 0.32208858 0.03178063 0.22708666]\n",
            " [0.05035215 0.21932136 0.15888717 0.19741549 0.24864541]\n",
            " [0.3036085  0.01067527 0.24637178 0.17013382 0.16090397]\n",
            " [0.09707378 0.0214601  0.20227302 0.04527481 0.34813594]\n",
            " [0.17028943 0.16862177 0.14235103 0.05649221 0.34430749]]\n"
          ]
        }
      ],
      "source": [],
      "id": "ee6ced60"
    },
    {
      "cell_type": "markdown",
      "metadata": {
        "id": "464d8590"
      },
      "source": [
        "#### 23. Create a custom dtype that describes a color as four unsigned bytes (RGBA) (★☆☆)"
      ],
      "id": "464d8590"
    },
    {
      "cell_type": "code",
      "execution_count": null,
      "metadata": {
        "id": "e2f9cfc6",
        "colab": {
          "base_uri": "https://localhost:8080/"
        },
        "outputId": "5d104b08-e4b8-4992-9379-545cd467d3e8"
      },
      "outputs": [
        {
          "output_type": "stream",
          "name": "stdout",
          "text": [
            "[(255, 0, 0, 128)]\n"
          ]
        }
      ],
      "source": [
        "\n",
        "import numpy as np\n",
        "\n",
        "# Define custom dtype for RGBA color\n",
        "rgba_dtype = np.dtype([\n",
        "    ('red', np.uint8),\n",
        "    ('green', np.uint8),\n",
        "    ('blue', np.uint8),\n",
        "    ('alpha', np.uint8)\n",
        "])\n",
        "\n",
        "# Example usage:\n",
        "color_array = np.array([(255, 0, 0, 128)], dtype=rgba_dtype)\n",
        "print(color_array)"
      ],
      "id": "e2f9cfc6"
    },
    {
      "cell_type": "markdown",
      "metadata": {
        "id": "06c63bb3"
      },
      "source": [
        "#### 24. Multiply a 5x3 matrix by a 3x2 matrix (real matrix product) (★☆☆)"
      ],
      "id": "06c63bb3"
    },
    {
      "cell_type": "code",
      "execution_count": null,
      "metadata": {
        "id": "9fc0d553",
        "colab": {
          "base_uri": "https://localhost:8080/"
        },
        "outputId": "fc8366b9-39e1-44fd-b2e0-25fc4b363130"
      },
      "outputs": [
        {
          "output_type": "stream",
          "name": "stdout",
          "text": [
            "Resultant 5x2 matrix:\n",
            "[[13  8]\n",
            " [31 17]\n",
            " [49 26]\n",
            " [67 35]\n",
            " [85 44]]\n"
          ]
        }
      ],
      "source": [
        "\n",
        "import numpy as np\n",
        "\n",
        "# Define 5x3 matrix\n",
        "matrix_a = np.array([[1, 2, 3],\n",
        "                    [4, 5, 6],\n",
        "                    [7, 8, 9],\n",
        "                    [10, 11, 12],\n",
        "                    [13, 14, 15]])\n",
        "\n",
        "# Define 3x2 matrix\n",
        "matrix_b = np.array([[2, 0],\n",
        "                    [1, 1],\n",
        "                    [3, 2]])\n",
        "\n",
        "# Perform matrix multiplication\n",
        "result_matrix = np.dot(matrix_a, matrix_b)\n",
        "\n",
        "print(\"Resultant 5x2 matrix:\")\n",
        "print(result_matrix)"
      ],
      "id": "9fc0d553"
    },
    {
      "cell_type": "markdown",
      "metadata": {
        "id": "76fa6285"
      },
      "source": [
        "#### 25. Given a 1D array, negate all elements which are between 3 and 8, in place. (★☆☆)"
      ],
      "id": "76fa6285"
    },
    {
      "cell_type": "code",
      "execution_count": null,
      "metadata": {
        "id": "0e25eca7",
        "colab": {
          "base_uri": "https://localhost:8080/"
        },
        "outputId": "f896c9cb-50af-4775-8268-bbf661f226f1"
      },
      "outputs": [
        {
          "output_type": "stream",
          "name": "stdout",
          "text": [
            "Modified array:\n",
            "[ 1 -5 -4 -7  2  9 -6  3  8]\n"
          ]
        }
      ],
      "source": [
        "\n",
        "import numpy as np\n",
        "\n",
        "# Create a 1D array\n",
        "arr = np.array([1, 5, 4, 7, 2, 9, 6, 3, 8])\n",
        "\n",
        "# Negate elements between 3 and 8 in place\n",
        "arr[(arr > 3) & (arr < 8)] *= -1\n",
        "\n",
        "print(\"Modified array:\")\n",
        "print(arr)"
      ],
      "id": "0e25eca7"
    },
    {
      "cell_type": "markdown",
      "metadata": {
        "id": "930ed8bb"
      },
      "source": [
        "#### 26. What is the output of the following script? (★☆☆)\n",
        "```python\n",
        "# Author: Jake VanderPlas\n",
        "\n",
        "print(sum(range(5),-1))\n",
        "from numpy import *\n",
        "print(sum(range(5),-1))\n",
        "```"
      ],
      "id": "930ed8bb"
    },
    {
      "cell_type": "code",
      "execution_count": null,
      "metadata": {
        "id": "f02eedba",
        "colab": {
          "base_uri": "https://localhost:8080/"
        },
        "outputId": "274d0b7a-4671-4d98-c761-02ec218ba39b"
      },
      "outputs": [
        {
          "output_type": "stream",
          "name": "stdout",
          "text": [
            "9\n",
            "10\n"
          ]
        }
      ],
      "source": [
        "\n",
        "print(sum(range(5), -1))\n",
        "from numpy import *\n",
        "print(sum(range(5), -1))"
      ],
      "id": "f02eedba"
    },
    {
      "cell_type": "markdown",
      "metadata": {
        "id": "177120e7"
      },
      "source": [
        "#### 27. Consider an integer vector Z, which of these expressions are legal? (★☆☆)\n",
        "```python\n",
        "Z**Z\n",
        "2 << Z >> 2\n",
        "Z <- Z\n",
        "1j*Z\n",
        "Z/1/1\n",
        "Z<Z>Z\n",
        "```"
      ],
      "id": "177120e7"
    },
    {
      "cell_type": "code",
      "execution_count": null,
      "metadata": {
        "id": "86d6cbef",
        "colab": {
          "base_uri": "https://localhost:8080/",
          "height": 176
        },
        "outputId": "9c5a4ea4-af24-4fc6-8fa5-f3ef1f40f1c2"
      },
      "outputs": [
        {
          "output_type": "error",
          "ename": "SyntaxError",
          "evalue": "ignored",
          "traceback": [
            "\u001b[0;36m  File \u001b[0;32m\"<ipython-input-6-49cfe4963bb3>\"\u001b[0;36m, line \u001b[0;32m1\u001b[0m\n\u001b[0;31m    all expressions except the last one are legal in Python.\u001b[0m\n\u001b[0m        ^\u001b[0m\n\u001b[0;31mSyntaxError\u001b[0m\u001b[0;31m:\u001b[0m invalid syntax\n"
          ]
        }
      ],
      "source": [
        "all expressions except the last one are legal in Python."
      ],
      "id": "86d6cbef"
    },
    {
      "cell_type": "markdown",
      "metadata": {
        "id": "a6eaf0e8"
      },
      "source": [
        "#### 28. What are the result of the following expressions? (★☆☆)\n",
        "```python\n",
        "np.array(0) / np.array(0)\n",
        "np.array(0) // np.array(0)\n",
        "np.array([np.nan]).astype(int).astype(float)\n",
        "```"
      ],
      "id": "a6eaf0e8"
    },
    {
      "cell_type": "code",
      "execution_count": null,
      "metadata": {
        "id": "93684068",
        "colab": {
          "base_uri": "https://localhost:8080/"
        },
        "outputId": "784e4146-9c3e-4b7d-ffda-75ec8cb97cbf"
      },
      "outputs": [
        {
          "output_type": "stream",
          "name": "stdout",
          "text": [
            "nan\n",
            "0\n",
            "[-9.22337204e+18]\n"
          ]
        },
        {
          "output_type": "stream",
          "name": "stderr",
          "text": [
            "<ipython-input-7-51a43e6669f5>:1: RuntimeWarning: invalid value encountered in divide\n",
            "  print(np.array(0) / np.array(0))\n",
            "<ipython-input-7-51a43e6669f5>:2: RuntimeWarning: divide by zero encountered in floor_divide\n",
            "  print(np.array(0) // np.array(0))\n"
          ]
        }
      ],
      "source": [
        "\n",
        "print(np.array(0) / np.array(0))\n",
        "print(np.array(0) // np.array(0))\n",
        "print (np.array([np.nan]).astype(int).astype(float))"
      ],
      "id": "93684068"
    },
    {
      "cell_type": "markdown",
      "metadata": {
        "id": "524b65f8"
      },
      "source": [
        "#### 29. How to round away from zero a float array ? (★☆☆)"
      ],
      "id": "524b65f8"
    },
    {
      "cell_type": "code",
      "execution_count": null,
      "metadata": {
        "id": "61fbb78e",
        "colab": {
          "base_uri": "https://localhost:8080/"
        },
        "outputId": "cb12e3cb-cd14-4c8e-9dd8-50d80fe6664f"
      },
      "outputs": [
        {
          "output_type": "stream",
          "name": "stdout",
          "text": [
            "Original float array: [ 1.2 -2.5  3.7 -4.8]\n",
            "Rounded away from zero: [ 2. -2.  4. -4.]\n"
          ]
        }
      ],
      "source": [
        "\n",
        "import numpy as np\n",
        "\n",
        "# Create a float array\n",
        "float_array = np.array([1.2, -2.5, 3.7, -4.8])\n",
        "\n",
        "# Round away from zero\n",
        "rounded_array = np.ceil(float_array)\n",
        "\n",
        "print(\"Original float array:\", float_array)\n",
        "print(\"Rounded away from zero:\", rounded_array)"
      ],
      "id": "61fbb78e"
    },
    {
      "cell_type": "markdown",
      "metadata": {
        "id": "8dc40752"
      },
      "source": [
        "#### 30. How to find common values between two arrays? (★☆☆)"
      ],
      "id": "8dc40752"
    },
    {
      "cell_type": "code",
      "execution_count": null,
      "metadata": {
        "id": "54399cbe",
        "colab": {
          "base_uri": "https://localhost:8080/"
        },
        "outputId": "4da415ae-981f-4767-ca48-ae3ec387c1d0"
      },
      "outputs": [
        {
          "output_type": "stream",
          "name": "stdout",
          "text": [
            "[3, 4, 5]\n"
          ]
        }
      ],
      "source": [
        "\n",
        "array1 = [1, 2, 3, 4, 5]\n",
        "array2 = [3, 4, 5, 6, 7]\n",
        "\n",
        "common_values = list(set(array1) & set(array2))\n",
        "\n",
        "print(common_values)"
      ],
      "id": "54399cbe"
    },
    {
      "cell_type": "markdown",
      "metadata": {
        "id": "b7f38e21"
      },
      "source": [
        "#### 31. How to ignore all numpy warnings (not recommended)? (★☆☆)"
      ],
      "id": "b7f38e21"
    },
    {
      "cell_type": "code",
      "execution_count": null,
      "metadata": {
        "id": "2ca3289c"
      },
      "outputs": [],
      "source": [
        "\n",
        "import numpy as np\n",
        "import warnings\n",
        "\n",
        "# Ignore all NumPy warnings\n",
        "warnings.filterwarnings(\"ignore\", category=np.VisibleDeprecationWarning)"
      ],
      "id": "2ca3289c"
    },
    {
      "cell_type": "markdown",
      "metadata": {
        "id": "2d850aab"
      },
      "source": [
        "#### 32. Is the following expressions true? (★☆☆)\n",
        "```python\n",
        "np.sqrt(-1) == np.emath.sqrt(-1)\n",
        "```"
      ],
      "id": "2d850aab"
    },
    {
      "cell_type": "code",
      "execution_count": null,
      "metadata": {
        "id": "5c83ffce",
        "colab": {
          "base_uri": "https://localhost:8080/",
          "height": 158
        },
        "outputId": "21bbea53-6d98-45a2-ac48-061dcd2ab0de"
      },
      "outputs": [
        {
          "output_type": "error",
          "ename": "SyntaxError",
          "evalue": "ignored",
          "traceback": [
            "\u001b[0;36m  File \u001b[0;32m\"<ipython-input-11-0db62eb46539>\"\u001b[0;36m, line \u001b[0;32m1\u001b[0m\n\u001b[0;31m    the expression is not true.\u001b[0m\n\u001b[0m        ^\u001b[0m\n\u001b[0;31mSyntaxError\u001b[0m\u001b[0;31m:\u001b[0m invalid syntax\n"
          ]
        }
      ],
      "source": [
        " the expression is not true."
      ],
      "id": "5c83ffce"
    },
    {
      "cell_type": "markdown",
      "metadata": {
        "id": "5c4a556f"
      },
      "source": [
        "#### 33. How to get the dates of yesterday, today and tomorrow? (★☆☆)"
      ],
      "id": "5c4a556f"
    },
    {
      "cell_type": "code",
      "execution_count": null,
      "metadata": {
        "id": "c3b683a0",
        "colab": {
          "base_uri": "https://localhost:8080/"
        },
        "outputId": "31d15ae5-12f0-45c8-e8b3-1b924b71af53"
      },
      "outputs": [
        {
          "output_type": "stream",
          "name": "stdout",
          "text": [
            "Yesterday: 2023-11-21\n",
            "Today: 2023-11-22\n",
            "Tomorrow: 2023-11-23\n"
          ]
        }
      ],
      "source": [
        "\n",
        "from datetime import datetime, timedelta\n",
        "\n",
        "# Get today's date\n",
        "today = datetime.now().date()\n",
        "\n",
        "# Get yesterday's date\n",
        "yesterday = today - timedelta(days=1)\n",
        "\n",
        "# Get tomorrow's date\n",
        "tomorrow = today + timedelta(days=1)\n",
        "\n",
        "print(\"Yesterday:\", yesterday)\n",
        "print(\"Today:\", today)\n",
        "print(\"Tomorrow:\", tomorrow)"
      ],
      "id": "c3b683a0"
    },
    {
      "cell_type": "markdown",
      "metadata": {
        "id": "453cdd64"
      },
      "source": [
        "#### 34. How to get all the dates corresponding to the month of July 2016? (★★☆)"
      ],
      "id": "453cdd64"
    },
    {
      "cell_type": "code",
      "execution_count": null,
      "metadata": {
        "id": "4ba4d37c",
        "colab": {
          "base_uri": "https://localhost:8080/"
        },
        "outputId": "10b04fca-f27a-4957-e14d-76ae2381e24a"
      },
      "outputs": [
        {
          "output_type": "stream",
          "name": "stdout",
          "text": [
            "[datetime.datetime(2016, 7, 1, 0, 0), datetime.datetime(2016, 7, 2, 0, 0), datetime.datetime(2016, 7, 3, 0, 0), datetime.datetime(2016, 7, 4, 0, 0), datetime.datetime(2016, 7, 5, 0, 0), datetime.datetime(2016, 7, 6, 0, 0), datetime.datetime(2016, 7, 7, 0, 0), datetime.datetime(2016, 7, 8, 0, 0), datetime.datetime(2016, 7, 9, 0, 0), datetime.datetime(2016, 7, 10, 0, 0), datetime.datetime(2016, 7, 11, 0, 0), datetime.datetime(2016, 7, 12, 0, 0), datetime.datetime(2016, 7, 13, 0, 0), datetime.datetime(2016, 7, 14, 0, 0), datetime.datetime(2016, 7, 15, 0, 0), datetime.datetime(2016, 7, 16, 0, 0), datetime.datetime(2016, 7, 17, 0, 0), datetime.datetime(2016, 7, 18, 0, 0), datetime.datetime(2016, 7, 19, 0, 0), datetime.datetime(2016, 7, 20, 0, 0), datetime.datetime(2016, 7, 21, 0, 0), datetime.datetime(2016, 7, 22, 0, 0), datetime.datetime(2016, 7, 23, 0, 0), datetime.datetime(2016, 7, 24, 0, 0), datetime.datetime(2016, 7, 25, 0, 0), datetime.datetime(2016, 7, 26, 0, 0), datetime.datetime(2016, 7, 27, 0, 0), datetime.datetime(2016, 7, 28, 0, 0), datetime.datetime(2016, 7, 29, 0, 0), datetime.datetime(2016, 7, 30, 0, 0), datetime.datetime(2016, 7, 31, 0, 0)]\n"
          ]
        }
      ],
      "source": [
        "\n",
        "from datetime import datetime, timedelta\n",
        "\n",
        "# Set the start date to the first day of July 2016\n",
        "start_date = datetime(2016, 7, 1)\n",
        "\n",
        "# Calculate the number of days in July\n",
        "num_days_in_july = 31\n",
        "\n",
        "# Generate all the dates in July 2016\n",
        "all_dates_in_july = [start_date + timedelta(days=i) for i in range(num_days_in_july)]\n",
        "\n",
        "# Print the list of dates\n",
        "print(all_dates_in_july)"
      ],
      "id": "4ba4d37c"
    },
    {
      "cell_type": "markdown",
      "metadata": {
        "id": "52667b6e"
      },
      "source": [
        "#### 35. How to compute ((A+B)*(-A/2)) in place (without copy)? (★★☆)"
      ],
      "id": "52667b6e"
    },
    {
      "cell_type": "code",
      "execution_count": null,
      "metadata": {
        "id": "e6e7c030",
        "colab": {
          "base_uri": "https://localhost:8080/",
          "height": 453
        },
        "outputId": "376f95ed-acab-4d24-deb1-c1697a06dc7a"
      },
      "outputs": [
        {
          "output_type": "error",
          "ename": "UFuncTypeError",
          "evalue": "ignored",
          "traceback": [
            "\u001b[0;31m---------------------------------------------------------------------------\u001b[0m",
            "\u001b[0;31mUFuncTypeError\u001b[0m                            Traceback (most recent call last)",
            "\u001b[0;32m<ipython-input-14-efcf47c9e54f>\u001b[0m in \u001b[0;36m<cell line: 9>\u001b[0;34m()\u001b[0m\n\u001b[1;32m      7\u001b[0m \u001b[0;31m# Perform the computation in place\u001b[0m\u001b[0;34m\u001b[0m\u001b[0;34m\u001b[0m\u001b[0m\n\u001b[1;32m      8\u001b[0m \u001b[0mA\u001b[0m \u001b[0;34m+=\u001b[0m \u001b[0mB\u001b[0m\u001b[0;34m\u001b[0m\u001b[0;34m\u001b[0m\u001b[0m\n\u001b[0;32m----> 9\u001b[0;31m \u001b[0mA\u001b[0m \u001b[0;34m*=\u001b[0m \u001b[0;34m-\u001b[0m\u001b[0mA\u001b[0m \u001b[0;34m/\u001b[0m \u001b[0;36m2\u001b[0m\u001b[0;34m\u001b[0m\u001b[0;34m\u001b[0m\u001b[0m\n\u001b[0m\u001b[1;32m     10\u001b[0m \u001b[0;34m\u001b[0m\u001b[0m\n\u001b[1;32m     11\u001b[0m \u001b[0;31m# A now contains the result ((A+B)*(-A/2)) without creating a copy\u001b[0m\u001b[0;34m\u001b[0m\u001b[0;34m\u001b[0m\u001b[0m\n",
            "\u001b[0;31mUFuncTypeError\u001b[0m: Cannot cast ufunc 'multiply' output from dtype('float64') to dtype('int64') with casting rule 'same_kind'"
          ]
        }
      ],
      "source": [
        "\n",
        "import numpy as np\n",
        "\n",
        "# Assuming A and B are NumPy arrays\n",
        "A = np.array([1, 2, 3])\n",
        "B = np.array([4, 5, 6])\n",
        "\n",
        "# Perform the computation in place\n",
        "A += B\n",
        "A *= -A / 2\n",
        "\n",
        "# A now contains the result ((A+B)*(-A/2)) without creating a copy\n",
        "print(A)"
      ],
      "id": "e6e7c030"
    },
    {
      "cell_type": "markdown",
      "metadata": {
        "id": "9a8f3738"
      },
      "source": [
        "#### 36. Extract the integer part of a random array of positive numbers using 4 different methods (★★☆)"
      ],
      "id": "9a8f3738"
    },
    {
      "cell_type": "code",
      "execution_count": null,
      "metadata": {
        "id": "368a801a",
        "colab": {
          "base_uri": "https://localhost:8080/"
        },
        "outputId": "9a89bb6b-c1d3-41f0-9357-19fdf1698425"
      },
      "outputs": [
        {
          "output_type": "stream",
          "name": "stdout",
          "text": [
            "Original Array: [7.19455858 9.51482874 3.01134562 4.04943265 8.20884254]\n",
            "Method 1 (np.floor): [7. 9. 3. 4. 8.]\n",
            "Method 2 (np.ceil): [ 8. 10.  4.  5.  9.]\n",
            "Method 3 (np.trunc): [7. 9. 3. 4. 8.]\n",
            "Method 4 (astype(int)): [7 9 3 4 8]\n"
          ]
        }
      ],
      "source": [
        "\n",
        "import numpy as np\n",
        "\n",
        "# Create a random array of positive numbers\n",
        "random_array = np.random.rand(5) * 10  # Adjust the size as needed\n",
        "\n",
        "# Method 1: Using np.floor\n",
        "integer_part_floor = np.floor(random_array)\n",
        "\n",
        "# Method 2: Using np.ceil\n",
        "integer_part_ceil = np.ceil(random_array)\n",
        "\n",
        "# Method 3: Using np.trunc\n",
        "integer_part_trunc = np.trunc(random_array)\n",
        "\n",
        "# Method 4: Using astype(int)\n",
        "integer_part_astype = random_array.astype(int)\n",
        "\n",
        "# Print the results\n",
        "print(\"Original Array:\", random_array)\n",
        "print(\"Method 1 (np.floor):\", integer_part_floor)\n",
        "print(\"Method 2 (np.ceil):\", integer_part_ceil)\n",
        "print(\"Method 3 (np.trunc):\", integer_part_trunc)\n",
        "print(\"Method 4 (astype(int)):\", integer_part_astype)"
      ],
      "id": "368a801a"
    },
    {
      "cell_type": "markdown",
      "metadata": {
        "id": "cab1eed1"
      },
      "source": [
        "#### 37. Create a 5x5 matrix with row values ranging from 0 to 4 (★★☆)"
      ],
      "id": "cab1eed1"
    },
    {
      "cell_type": "code",
      "execution_count": null,
      "metadata": {
        "id": "f1b579ba",
        "colab": {
          "base_uri": "https://localhost:8080/"
        },
        "outputId": "064bb9b3-6700-4e2a-eeb2-1fdb6dc96bb2"
      },
      "outputs": [
        {
          "output_type": "stream",
          "name": "stdout",
          "text": [
            "[[0 1 2 3 4]\n",
            " [0 1 2 3 4]\n",
            " [0 1 2 3 4]\n",
            " [0 1 2 3 4]\n",
            " [0 1 2 3 4]]\n"
          ]
        }
      ],
      "source": [
        "\n",
        "import numpy as np\n",
        "\n",
        "# Create a 5x5 matrix with row values ranging from 0 to 4\n",
        "matrix = np.tile(np.arange(5), (5, 1))\n",
        "\n",
        "# Print the matrix\n",
        "print(matrix)"
      ],
      "id": "f1b579ba"
    },
    {
      "cell_type": "markdown",
      "metadata": {
        "id": "cd0ce6b1"
      },
      "source": [
        "#### 38. Consider a generator function that generates 10 integers and use it to build an array (★☆☆)"
      ],
      "id": "cd0ce6b1"
    },
    {
      "cell_type": "code",
      "execution_count": null,
      "metadata": {
        "id": "aab193a6",
        "colab": {
          "base_uri": "https://localhost:8080/"
        },
        "outputId": "22cb2920-232b-4238-a0db-df2d8de00f20"
      },
      "outputs": [
        {
          "output_type": "stream",
          "name": "stdout",
          "text": [
            "[0 1 2 3 4 5 6 7 8 9]\n"
          ]
        }
      ],
      "source": [
        "\n",
        "import numpy as np\n",
        "\n",
        "# Generator function to yield 10 integers\n",
        "def generate_integers():\n",
        "    for i in range(10):\n",
        "        yield i\n",
        "\n",
        "# Use the generator function to build an array\n",
        "generated_array = np.array(list(generate_integers()))\n",
        "\n",
        "# Print the array\n",
        "print(generated_array)"
      ],
      "id": "aab193a6"
    },
    {
      "cell_type": "markdown",
      "metadata": {
        "id": "c4c942d1"
      },
      "source": [
        "#### 39. Create a vector of size 10 with values ranging from 0 to 1, both excluded (★★☆)"
      ],
      "id": "c4c942d1"
    },
    {
      "cell_type": "code",
      "execution_count": null,
      "metadata": {
        "id": "e42eaa4b",
        "colab": {
          "base_uri": "https://localhost:8080/"
        },
        "outputId": "67cbe39b-575d-40bb-86cc-07f5bb3f6fda"
      },
      "outputs": [
        {
          "output_type": "stream",
          "name": "stdout",
          "text": [
            "[0.09090909 0.18181818 0.27272727 0.36363636 0.45454545 0.54545455\n",
            " 0.63636364 0.72727273 0.81818182 0.90909091]\n"
          ]
        }
      ],
      "source": [
        "\n",
        "import numpy as np\n",
        "\n",
        "# Create a vector with values ranging from 0 to 1 (both excluded)\n",
        "vector = np.linspace(0, 1, 12)[1:-1]\n",
        "\n",
        "# Print the vector\n",
        "print(vector)"
      ],
      "id": "e42eaa4b"
    },
    {
      "cell_type": "markdown",
      "metadata": {
        "id": "9b3cb8d2"
      },
      "source": [
        "#### 40. Create a random vector of size 10 and sort it (★★☆)"
      ],
      "id": "9b3cb8d2"
    },
    {
      "cell_type": "code",
      "execution_count": null,
      "metadata": {
        "id": "37d2b341",
        "colab": {
          "base_uri": "https://localhost:8080/"
        },
        "outputId": "ad572f7c-c89b-4e3a-b450-6201d04f54af"
      },
      "outputs": [
        {
          "output_type": "stream",
          "name": "stdout",
          "text": [
            "Original Vector: [0.10914104 0.02017174 0.60272456 0.28566497 0.8571375  0.2703171\n",
            " 0.14387544 0.99668442 0.07250566 0.68816827]\n",
            "Sorted Vector: [0.02017174 0.07250566 0.10914104 0.14387544 0.2703171  0.28566497\n",
            " 0.60272456 0.68816827 0.8571375  0.99668442]\n"
          ]
        }
      ],
      "source": [
        "\n",
        "import numpy as np\n",
        "\n",
        "# Create a random vector of size 10\n",
        "random_vector = np.random.rand(10)\n",
        "\n",
        "# Sort the random vector\n",
        "sorted_vector = np.sort(random_vector)\n",
        "\n",
        "# Print the original and sorted vectors\n",
        "print(\"Original Vector:\", random_vector)\n",
        "print(\"Sorted Vector:\", sorted_vector)"
      ],
      "id": "37d2b341"
    },
    {
      "cell_type": "markdown",
      "metadata": {
        "id": "2facfddc"
      },
      "source": [
        "#### 41. How to sum a small array faster than np.sum? (★★☆)"
      ],
      "id": "2facfddc"
    },
    {
      "cell_type": "code",
      "execution_count": null,
      "metadata": {
        "id": "4bb8864f",
        "colab": {
          "base_uri": "https://localhost:8080/"
        },
        "outputId": "0199ed70-fa5b-4866-f2f4-ed6cafe6f5b8"
      },
      "outputs": [
        {
          "output_type": "stream",
          "name": "stdout",
          "text": [
            "Sum using built-in sum function: 15\n"
          ]
        }
      ],
      "source": [
        "\n",
        "import numpy as np\n",
        "\n",
        "# Create a small array\n",
        "small_array = np.array([1, 2, 3, 4, 5])\n",
        "\n",
        "# Use built-in sum function for faster summation on small arrays\n",
        "result = sum(small_array)\n",
        "\n",
        "print(\"Sum using built-in sum function:\", result)"
      ],
      "id": "4bb8864f"
    },
    {
      "cell_type": "markdown",
      "metadata": {
        "id": "539cd2a5"
      },
      "source": [
        "#### 42. Consider two random array A and B, check if they are equal (★★☆)"
      ],
      "id": "539cd2a5"
    },
    {
      "cell_type": "code",
      "execution_count": null,
      "metadata": {
        "id": "5246d7bf",
        "outputId": "e1b20d46-ff79-419b-87b0-d8367e86a33d",
        "colab": {
          "base_uri": "https://localhost:8080/"
        }
      },
      "outputs": [
        {
          "output_type": "stream",
          "name": "stdout",
          "text": [
            "Arrays A and B are equal\n"
          ]
        }
      ],
      "source": [
        "\n",
        "A = [1, 2, 3]\n",
        "B = [1, 2, 3]\n",
        "\n",
        "if A == B:\n",
        "    print(\"Arrays A and B are equal\")\n",
        "else:\n",
        "    print(\"Arrays A and B are not equal\")"
      ],
      "id": "5246d7bf"
    },
    {
      "cell_type": "markdown",
      "metadata": {
        "id": "448f8274"
      },
      "source": [
        "#### 43. Make an array immutable (read-only) (★★☆)"
      ],
      "id": "448f8274"
    },
    {
      "cell_type": "code",
      "execution_count": null,
      "metadata": {
        "id": "7cf2b3dd"
      },
      "outputs": [],
      "source": [
        "\n",
        "immutable_array = (1, 2, 3)"
      ],
      "id": "7cf2b3dd"
    },
    {
      "cell_type": "markdown",
      "metadata": {
        "id": "d7b7aaf3"
      },
      "source": [
        "#### 44. Consider a random 10x2 matrix representing cartesian coordinates, convert them to polar coordinates (★★☆)"
      ],
      "id": "d7b7aaf3"
    },
    {
      "cell_type": "code",
      "execution_count": null,
      "metadata": {
        "id": "e2337585",
        "colab": {
          "base_uri": "https://localhost:8080/"
        },
        "outputId": "f5956199-3f55-44e0-e816-25542b07e204"
      },
      "outputs": [
        {
          "output_type": "stream",
          "name": "stdout",
          "text": [
            "Cartesian Coordinates: [[1, 2], [3, 4], [5, 6], [7, 8], [9, 10], [11, 12], [13, 14], [15, 16], [17, 18], [19, 20]]\n",
            "Polar Coordinates: [(2.23606797749979, 1.1071487177940904), (5.0, 0.9272952180016122), (7.810249675906654, 0.8760580505981934), (10.63014581273465, 0.8519663271732721), (13.45362404707371, 0.83798122500839), (16.278820596099706, 0.8288490587889792), (19.1049731745428, 0.8224182792713783), (21.93171219946131, 0.8176450458327023), (24.758836806279895, 0.8139618212362083), (27.586228448267445, 0.8110335719191258)]\n"
          ]
        }
      ],
      "source": [
        "\n",
        "import cmath\n",
        "\n",
        "# Example 10x2 matrix representing Cartesian coordinates\n",
        "cartesian_coordinates = [\n",
        "    [1, 2],\n",
        "    [3, 4],\n",
        "    [5, 6],\n",
        "    [7, 8],\n",
        "    [9, 10],\n",
        "    [11, 12],\n",
        "    [13, 14],\n",
        "    [15, 16],\n",
        "    [17, 18],\n",
        "    [19, 20]\n",
        "]\n",
        "\n",
        "# Convert Cartesian coordinates to polar coordinates\n",
        "polar_coordinates = [(abs(complex(x, y)), cmath.phase(complex(x, y))) for x, y in cartesian_coordinates]\n",
        "\n",
        "print(\"Cartesian Coordinates:\", cartesian_coordinates)\n",
        "print(\"Polar Coordinates:\", polar_coordinates)"
      ],
      "id": "e2337585"
    },
    {
      "cell_type": "markdown",
      "metadata": {
        "id": "a556027a"
      },
      "source": [
        "#### 45. Create random vector of size 10 and replace the maximum value by 0 (★★☆)"
      ],
      "id": "a556027a"
    },
    {
      "cell_type": "code",
      "execution_count": null,
      "metadata": {
        "id": "9e07cb87",
        "colab": {
          "base_uri": "https://localhost:8080/"
        },
        "outputId": "e30f6afa-4247-4688-bfcf-006b408b07c7"
      },
      "outputs": [
        {
          "output_type": "stream",
          "name": "stdout",
          "text": [
            "Random Vector: [0.38175045 0.58092012 0.04217903 0.24136949 0.19632334 0.90769348\n",
            " 0.         0.24313354 0.33362225 0.77237658]\n"
          ]
        }
      ],
      "source": [
        "\n",
        "import numpy as np\n",
        "\n",
        "# Create a random vector of size 10\n",
        "random_vector = np.random.rand(10)\n",
        "\n",
        "# Find the index of the maximum value\n",
        "max_index = np.argmax(random_vector)\n",
        "\n",
        "# Replace the maximum value with 0\n",
        "random_vector[max_index] = 0\n",
        "\n",
        "print(\"Random Vector:\", random_vector)"
      ],
      "id": "9e07cb87"
    },
    {
      "cell_type": "markdown",
      "metadata": {
        "id": "004f3da1"
      },
      "source": [
        "#### 46. Create a structured array with `x` and `y` coordinates covering the [0,1]x[0,1] area (★★☆)"
      ],
      "id": "004f3da1"
    },
    {
      "cell_type": "code",
      "execution_count": null,
      "metadata": {
        "id": "b3824741",
        "colab": {
          "base_uri": "https://localhost:8080/"
        },
        "outputId": "c409c155-2446-46a1-b19c-a4facdae6869"
      },
      "outputs": [
        {
          "output_type": "stream",
          "name": "stdout",
          "text": [
            "Structured Array:\n",
            "[(0.36597212, 0.47259579) (0.919014  , 0.99141054)\n",
            " (0.55915463, 0.35950656) (0.95120367, 0.40544194)\n",
            " (0.23552096, 0.78594403) (0.12943163, 0.5422497 )\n",
            " (0.78711797, 0.92808199) (0.46898915, 0.72692028)\n",
            " (0.43385078, 0.73560442) (0.58978967, 0.77898054)]\n"
          ]
        }
      ],
      "source": [
        "\n",
        "import numpy as np\n",
        "\n",
        "# Define the size of the structured array\n",
        "array_size = 10\n",
        "\n",
        "# Create a structured array with x and y coordinates\n",
        "structured_array = np.zeros(array_size, dtype=[('x', float), ('y', float)])\n",
        "\n",
        "# Populate the array with random x and y coordinates in [0,1]x[0,1]\n",
        "structured_array['x'] = np.random.rand(array_size)\n",
        "structured_array['y'] = np.random.rand(array_size)\n",
        "\n",
        "print(\"Structured Array:\")\n",
        "print(structured_array)"
      ],
      "id": "b3824741"
    },
    {
      "cell_type": "markdown",
      "metadata": {
        "id": "1c0adc0d"
      },
      "source": [
        "#### 47. Given two arrays, X and Y, construct the Cauchy matrix C (Cij =1/(xi - yj)) (★★☆)"
      ],
      "id": "1c0adc0d"
    },
    {
      "cell_type": "code",
      "execution_count": null,
      "metadata": {
        "id": "01b3bbb7",
        "colab": {
          "base_uri": "https://localhost:8080/"
        },
        "outputId": "a8da38d8-920f-412a-b29f-e181cb9e39c9"
      },
      "outputs": [
        {
          "output_type": "stream",
          "name": "stdout",
          "text": [
            "Cauchy Matrix:\n",
            "[[-0.33333333 -0.25       -0.2       ]\n",
            " [-0.5        -0.33333333 -0.25      ]\n",
            " [-1.         -0.5        -0.33333333]]\n"
          ]
        }
      ],
      "source": [
        "\n",
        "import numpy as np\n",
        "\n",
        "# Assuming X and Y are your two arrays\n",
        "X = np.array([1, 2, 3])\n",
        "Y = np.array([4, 5, 6])\n",
        "\n",
        "# Construct the Cauchy matrix\n",
        "C = 1.0 / (X[:, np.newaxis] - Y)\n",
        "\n",
        "print(\"Cauchy Matrix:\")\n",
        "print(C)"
      ],
      "id": "01b3bbb7"
    },
    {
      "cell_type": "markdown",
      "metadata": {
        "id": "c8a2f65a"
      },
      "source": [
        "#### 48. Print the minimum and maximum representable value for each numpy scalar type (★★☆)"
      ],
      "id": "c8a2f65a"
    },
    {
      "cell_type": "code",
      "execution_count": null,
      "metadata": {
        "id": "35d844d6",
        "colab": {
          "base_uri": "https://localhost:8080/"
        },
        "outputId": "2088e0bb-ff8b-4673-ad3f-34ca7dfd489b"
      },
      "outputs": [
        {
          "output_type": "stream",
          "name": "stdout",
          "text": [
            "int8: Min = -128, Max = 127\n",
            "uint8: Min = 0, Max = 255\n",
            "int16: Min = -32768, Max = 32767\n",
            "uint16: Min = 0, Max = 65535\n",
            "int32: Min = -2147483648, Max = 2147483647\n",
            "uint32: Min = 0, Max = 4294967295\n",
            "int64: Min = -9223372036854775808, Max = 9223372036854775807\n",
            "uint64: Min = 0, Max = 18446744073709551615\n",
            "float16: Min = -65504.0, Max = 65504.0\n",
            "float32: Min = -3.4028234663852886e+38, Max = 3.4028234663852886e+38\n",
            "float64: Min = -1.7976931348623157e+308, Max = 1.7976931348623157e+308\n"
          ]
        }
      ],
      "source": [
        "\n",
        "import numpy as np\n",
        "\n",
        "# List of NumPy scalar types\n",
        "scalar_types = [np.int8, np.uint8, np.int16, np.uint16, np.int32, np.uint32,\n",
        "                np.int64, np.uint64, np.float16, np.float32, np.float64]\n",
        "\n",
        "# Print minimum and maximum representable values for each scalar type\n",
        "for scalar_type in scalar_types:\n",
        "    info = np.iinfo(scalar_type) if np.issubdtype(scalar_type, np.integer) else np.finfo(scalar_type)\n",
        "    print(f\"{scalar_type.__name__}: Min = {info.min}, Max = {info.max}\")"
      ],
      "id": "35d844d6"
    },
    {
      "cell_type": "markdown",
      "metadata": {
        "id": "11727a69"
      },
      "source": [
        "#### 49. How to print all the values of an array? (★★☆)"
      ],
      "id": "11727a69"
    },
    {
      "cell_type": "code",
      "execution_count": null,
      "metadata": {
        "id": "47e98473",
        "colab": {
          "base_uri": "https://localhost:8080/"
        },
        "outputId": "cefa7c5e-75a1-402f-d852-e91649754a02"
      },
      "outputs": [
        {
          "output_type": "stream",
          "name": "stdout",
          "text": [
            "Array values:\n",
            "[[1 2 3]\n",
            " [4 5 6]\n",
            " [7 8 9]]\n"
          ]
        }
      ],
      "source": [
        "\n",
        "import numpy as np\n",
        "\n",
        "# Create a NumPy array\n",
        "my_array = np.array([[1, 2, 3], [4, 5, 6], [7, 8, 9]])\n",
        "\n",
        "# Print all values of the array\n",
        "print(\"Array values:\")\n",
        "print(my_array)"
      ],
      "id": "47e98473"
    },
    {
      "cell_type": "markdown",
      "metadata": {
        "id": "e0e7d741"
      },
      "source": [
        "#### 50. How to find the closest value (to a given scalar) in a vector? (★★☆)"
      ],
      "id": "e0e7d741"
    },
    {
      "cell_type": "code",
      "execution_count": null,
      "metadata": {
        "id": "62cabf6f",
        "colab": {
          "base_uri": "https://localhost:8080/"
        },
        "outputId": "ab7e5c2c-9667-405e-b023-ffd959021905"
      },
      "outputs": [
        {
          "output_type": "stream",
          "name": "stdout",
          "text": [
            "Vector: [ 1  5  9 15 21]\n",
            "Given Scalar: 12\n",
            "Closest Value: 9 at index 2\n"
          ]
        }
      ],
      "source": [
        "\n",
        "import numpy as np\n",
        "\n",
        "# Create a NumPy array\n",
        "my_vector = np.array([1, 5, 9, 15, 21])\n",
        "\n",
        "# Given scalar\n",
        "scalar_value = 12\n",
        "\n",
        "# Find the index of the closest value\n",
        "closest_index = np.abs(my_vector - scalar_value).argmin()\n",
        "\n",
        "# Get the closest value\n",
        "closest_value = my_vector[closest_index]\n",
        "\n",
        "print(f\"Vector: {my_vector}\")\n",
        "print(f\"Given Scalar: {scalar_value}\")\n",
        "print(f\"Closest Value: {closest_value} at index {closest_index}\")"
      ],
      "id": "62cabf6f"
    },
    {
      "cell_type": "markdown",
      "metadata": {
        "id": "c5611b9e"
      },
      "source": [
        "#### 51. Create a structured array representing a position (x,y) and a color (r,g,b) (★★☆)"
      ],
      "id": "c5611b9e"
    },
    {
      "cell_type": "code",
      "execution_count": null,
      "metadata": {
        "id": "f622939d",
        "colab": {
          "base_uri": "https://localhost:8080/"
        },
        "outputId": "625c43d1-10e3-405f-ea71-e05975698c1a"
      },
      "outputs": [
        {
          "output_type": "stream",
          "name": "stdout",
          "text": [
            "Structured Array:\n",
            "[(1., 5., 255,   0, 128) (2., 4.,   0, 255, 128) (3., 3., 128, 128,   0)\n",
            " (4., 2.,   0, 255, 128) (5., 1., 255,   0, 128)]\n"
          ]
        }
      ],
      "source": [
        "\n",
        "import numpy as np\n",
        "\n",
        "# Create a structured array for position and color\n",
        "position_color_array = np.zeros(5, dtype=[('x', float), ('y', float), ('r', int), ('g', int), ('b', int)])\n",
        "\n",
        "# Populate the array with sample values\n",
        "position_color_array['x'] = [1.0, 2.0, 3.0, 4.0, 5.0]\n",
        "position_color_array['y'] = [5.0, 4.0, 3.0, 2.0, 1.0]\n",
        "position_color_array['r'] = [255, 0, 128, 0, 255]\n",
        "position_color_array['g'] = [0, 255, 128, 255, 0]\n",
        "position_color_array['b'] = [128, 128, 0, 128, 128]\n",
        "\n",
        "print(\"Structured Array:\")\n",
        "print(position_color_array)"
      ],
      "id": "f622939d"
    },
    {
      "cell_type": "markdown",
      "metadata": {
        "id": "d22b8574"
      },
      "source": [
        "#### 52. Consider a random vector with shape (100,2) representing coordinates, find point by point distances (★★☆)"
      ],
      "id": "d22b8574"
    },
    {
      "cell_type": "code",
      "execution_count": null,
      "metadata": {
        "id": "d5c9cdf8",
        "colab": {
          "base_uri": "https://localhost:8080/"
        },
        "outputId": "b4c9edf8-855f-4407-ff2e-e4f24dd07988"
      },
      "outputs": [
        {
          "output_type": "stream",
          "name": "stdout",
          "text": [
            "Pairwise Distances:\n",
            "[[0.         0.67242845 0.82720309 ... 0.72956897 0.24401591 0.43937071]\n",
            " [0.67242845 0.         0.7983642  ... 0.07008812 0.69606515 0.23344712]\n",
            " [0.82720309 0.7983642  0.         ... 0.78327192 0.60764934 0.73159247]\n",
            " ...\n",
            " [0.72956897 0.07008812 0.78327192 ... 0.         0.73607296 0.29080483]\n",
            " [0.24401591 0.69606515 0.60764934 ... 0.73607296 0.         0.47908964]\n",
            " [0.43937071 0.23344712 0.73159247 ... 0.29080483 0.47908964 0.        ]]\n"
          ]
        }
      ],
      "source": [
        "\n",
        "import numpy as np\n",
        "from scipy.spatial.distance import cdist\n",
        "\n",
        "# Create a random vector of shape (100, 2)\n",
        "random_vector = np.random.rand(100, 2)\n",
        "\n",
        "# Compute pairwise distances\n",
        "distances = cdist(random_vector, random_vector)\n",
        "\n",
        "print(\"Pairwise Distances:\")\n",
        "print(distances)"
      ],
      "id": "d5c9cdf8"
    },
    {
      "cell_type": "markdown",
      "metadata": {
        "id": "f5c164f2"
      },
      "source": [
        "#### 53. How to convert a float (32 bits) array into an integer (32 bits) in place?"
      ],
      "id": "f5c164f2"
    },
    {
      "cell_type": "code",
      "execution_count": null,
      "metadata": {
        "id": "ea262de8",
        "colab": {
          "base_uri": "https://localhost:8080/"
        },
        "outputId": "4687645e-fc9b-40db-dc78-ef9b8d954edc"
      },
      "outputs": [
        {
          "output_type": "stream",
          "name": "stdout",
          "text": [
            "Float Array (32 bits): [1.e-45 4.e-45 7.e-45]\n",
            "Integer Array (32 bits): [0 0 0]\n"
          ]
        }
      ],
      "source": [
        "\n",
        "import numpy as np\n",
        "\n",
        "# Create a float array (32 bits)\n",
        "float_array = np.array([1.2, 3.4, 5.6], dtype=np.float32)\n",
        "\n",
        "# Convert the float array to an integer array in place\n",
        "float_array.view(dtype=np.int32)[:] = float_array\n",
        "\n",
        "print(\"Float Array (32 bits):\", float_array.astype(np.float32))\n",
        "print(\"Integer Array (32 bits):\", float_array.astype(np.int32))"
      ],
      "id": "ea262de8"
    },
    {
      "cell_type": "markdown",
      "metadata": {
        "id": "a8b7e6f5"
      },
      "source": [
        "#### 54. How to read the following file? (★★☆)\n",
        "```\n",
        "1, 2, 3, 4, 5\n",
        "6,  ,  , 7, 8\n",
        " ,  , 9,10,11\n",
        "```"
      ],
      "id": "a8b7e6f5"
    },
    {
      "cell_type": "code",
      "execution_count": null,
      "metadata": {
        "id": "bde0538a",
        "colab": {
          "base_uri": "https://localhost:8080/",
          "height": 706
        },
        "outputId": "2d9825ea-8b73-4a20-db32-536952e8cc0f"
      },
      "outputs": [
        {
          "output_type": "error",
          "ename": "FileNotFoundError",
          "evalue": "ignored",
          "traceback": [
            "\u001b[0;31m---------------------------------------------------------------------------\u001b[0m",
            "\u001b[0;31mFileNotFoundError\u001b[0m                         Traceback (most recent call last)",
            "\u001b[0;32m<ipython-input-36-b740a4f6963e>\u001b[0m in \u001b[0;36m<cell line: 7>\u001b[0;34m()\u001b[0m\n\u001b[1;32m      5\u001b[0m \u001b[0;34m\u001b[0m\u001b[0m\n\u001b[1;32m      6\u001b[0m \u001b[0;31m# Read the file with numpy.genfromtxt\u001b[0m\u001b[0;34m\u001b[0m\u001b[0;34m\u001b[0m\u001b[0m\n\u001b[0;32m----> 7\u001b[0;31m \u001b[0mdata\u001b[0m \u001b[0;34m=\u001b[0m \u001b[0mnp\u001b[0m\u001b[0;34m.\u001b[0m\u001b[0mgenfromtxt\u001b[0m\u001b[0;34m(\u001b[0m\u001b[0mfile_path\u001b[0m\u001b[0;34m,\u001b[0m \u001b[0mdelimiter\u001b[0m\u001b[0;34m=\u001b[0m\u001b[0;34m','\u001b[0m\u001b[0;34m,\u001b[0m \u001b[0mfilling_values\u001b[0m\u001b[0;34m=\u001b[0m\u001b[0mnp\u001b[0m\u001b[0;34m.\u001b[0m\u001b[0mnan\u001b[0m\u001b[0;34m)\u001b[0m\u001b[0;34m\u001b[0m\u001b[0;34m\u001b[0m\u001b[0m\n\u001b[0m\u001b[1;32m      8\u001b[0m \u001b[0;34m\u001b[0m\u001b[0m\n\u001b[1;32m      9\u001b[0m \u001b[0mprint\u001b[0m\u001b[0;34m(\u001b[0m\u001b[0;34m\"Read Data:\"\u001b[0m\u001b[0;34m)\u001b[0m\u001b[0;34m\u001b[0m\u001b[0;34m\u001b[0m\u001b[0m\n",
            "\u001b[0;32m/usr/local/lib/python3.10/dist-packages/numpy/lib/npyio.py\u001b[0m in \u001b[0;36mgenfromtxt\u001b[0;34m(fname, dtype, comments, delimiter, skip_header, skip_footer, converters, missing_values, filling_values, usecols, names, excludelist, deletechars, replace_space, autostrip, case_sensitive, defaultfmt, unpack, usemask, loose, invalid_raise, max_rows, encoding, ndmin, like)\u001b[0m\n\u001b[1;32m   1957\u001b[0m         \u001b[0mfname\u001b[0m \u001b[0;34m=\u001b[0m \u001b[0mos_fspath\u001b[0m\u001b[0;34m(\u001b[0m\u001b[0mfname\u001b[0m\u001b[0;34m)\u001b[0m\u001b[0;34m\u001b[0m\u001b[0;34m\u001b[0m\u001b[0m\n\u001b[1;32m   1958\u001b[0m     \u001b[0;32mif\u001b[0m \u001b[0misinstance\u001b[0m\u001b[0;34m(\u001b[0m\u001b[0mfname\u001b[0m\u001b[0;34m,\u001b[0m \u001b[0mstr\u001b[0m\u001b[0;34m)\u001b[0m\u001b[0;34m:\u001b[0m\u001b[0;34m\u001b[0m\u001b[0;34m\u001b[0m\u001b[0m\n\u001b[0;32m-> 1959\u001b[0;31m         \u001b[0mfid\u001b[0m \u001b[0;34m=\u001b[0m \u001b[0mnp\u001b[0m\u001b[0;34m.\u001b[0m\u001b[0mlib\u001b[0m\u001b[0;34m.\u001b[0m\u001b[0m_datasource\u001b[0m\u001b[0;34m.\u001b[0m\u001b[0mopen\u001b[0m\u001b[0;34m(\u001b[0m\u001b[0mfname\u001b[0m\u001b[0;34m,\u001b[0m \u001b[0;34m'rt'\u001b[0m\u001b[0;34m,\u001b[0m \u001b[0mencoding\u001b[0m\u001b[0;34m=\u001b[0m\u001b[0mencoding\u001b[0m\u001b[0;34m)\u001b[0m\u001b[0;34m\u001b[0m\u001b[0;34m\u001b[0m\u001b[0m\n\u001b[0m\u001b[1;32m   1960\u001b[0m         \u001b[0mfid_ctx\u001b[0m \u001b[0;34m=\u001b[0m \u001b[0mcontextlib\u001b[0m\u001b[0;34m.\u001b[0m\u001b[0mclosing\u001b[0m\u001b[0;34m(\u001b[0m\u001b[0mfid\u001b[0m\u001b[0;34m)\u001b[0m\u001b[0;34m\u001b[0m\u001b[0;34m\u001b[0m\u001b[0m\n\u001b[1;32m   1961\u001b[0m     \u001b[0;32melse\u001b[0m\u001b[0;34m:\u001b[0m\u001b[0;34m\u001b[0m\u001b[0;34m\u001b[0m\u001b[0m\n",
            "\u001b[0;32m/usr/local/lib/python3.10/dist-packages/numpy/lib/_datasource.py\u001b[0m in \u001b[0;36mopen\u001b[0;34m(path, mode, destpath, encoding, newline)\u001b[0m\n\u001b[1;32m    191\u001b[0m \u001b[0;34m\u001b[0m\u001b[0m\n\u001b[1;32m    192\u001b[0m     \u001b[0mds\u001b[0m \u001b[0;34m=\u001b[0m \u001b[0mDataSource\u001b[0m\u001b[0;34m(\u001b[0m\u001b[0mdestpath\u001b[0m\u001b[0;34m)\u001b[0m\u001b[0;34m\u001b[0m\u001b[0;34m\u001b[0m\u001b[0m\n\u001b[0;32m--> 193\u001b[0;31m     \u001b[0;32mreturn\u001b[0m \u001b[0mds\u001b[0m\u001b[0;34m.\u001b[0m\u001b[0mopen\u001b[0m\u001b[0;34m(\u001b[0m\u001b[0mpath\u001b[0m\u001b[0;34m,\u001b[0m \u001b[0mmode\u001b[0m\u001b[0;34m,\u001b[0m \u001b[0mencoding\u001b[0m\u001b[0;34m=\u001b[0m\u001b[0mencoding\u001b[0m\u001b[0;34m,\u001b[0m \u001b[0mnewline\u001b[0m\u001b[0;34m=\u001b[0m\u001b[0mnewline\u001b[0m\u001b[0;34m)\u001b[0m\u001b[0;34m\u001b[0m\u001b[0;34m\u001b[0m\u001b[0m\n\u001b[0m\u001b[1;32m    194\u001b[0m \u001b[0;34m\u001b[0m\u001b[0m\n\u001b[1;32m    195\u001b[0m \u001b[0;34m\u001b[0m\u001b[0m\n",
            "\u001b[0;32m/usr/local/lib/python3.10/dist-packages/numpy/lib/_datasource.py\u001b[0m in \u001b[0;36mopen\u001b[0;34m(self, path, mode, encoding, newline)\u001b[0m\n\u001b[1;32m    531\u001b[0m                                       encoding=encoding, newline=newline)\n\u001b[1;32m    532\u001b[0m         \u001b[0;32melse\u001b[0m\u001b[0;34m:\u001b[0m\u001b[0;34m\u001b[0m\u001b[0;34m\u001b[0m\u001b[0m\n\u001b[0;32m--> 533\u001b[0;31m             \u001b[0;32mraise\u001b[0m \u001b[0mFileNotFoundError\u001b[0m\u001b[0;34m(\u001b[0m\u001b[0;34mf\"{path} not found.\"\u001b[0m\u001b[0;34m)\u001b[0m\u001b[0;34m\u001b[0m\u001b[0;34m\u001b[0m\u001b[0m\n\u001b[0m\u001b[1;32m    534\u001b[0m \u001b[0;34m\u001b[0m\u001b[0m\n\u001b[1;32m    535\u001b[0m \u001b[0;34m\u001b[0m\u001b[0m\n",
            "\u001b[0;31mFileNotFoundError\u001b[0m: example.txt not found."
          ]
        }
      ],
      "source": [
        "\n",
        "import numpy as np\n",
        "\n",
        "# Specify the file path\n",
        "file_path = 'example.txt'\n",
        "\n",
        "# Read the file with numpy.genfromtxt\n",
        "data = np.genfromtxt(file_path, delimiter=',', filling_values=np.nan)\n",
        "\n",
        "print(\"Read Data:\")\n",
        "print(data)"
      ],
      "id": "bde0538a"
    },
    {
      "cell_type": "markdown",
      "metadata": {
        "id": "c6b32834"
      },
      "source": [
        "#### 55. What is the equivalent of enumerate for numpy arrays? (★★☆)"
      ],
      "id": "c6b32834"
    },
    {
      "cell_type": "code",
      "execution_count": null,
      "metadata": {
        "id": "ab02472a",
        "colab": {
          "base_uri": "https://localhost:8080/"
        },
        "outputId": "cbbdb505-745a-4cb8-d54d-532d1e09183f"
      },
      "outputs": [
        {
          "output_type": "stream",
          "name": "stdout",
          "text": [
            "Index (0, 0): Value 1\n",
            "Index (0, 1): Value 2\n",
            "Index (0, 2): Value 3\n",
            "Index (1, 0): Value 4\n",
            "Index (1, 1): Value 5\n",
            "Index (1, 2): Value 6\n",
            "Index (2, 0): Value 7\n",
            "Index (2, 1): Value 8\n",
            "Index (2, 2): Value 9\n"
          ]
        }
      ],
      "source": [
        "\n",
        "import numpy as np\n",
        "\n",
        "# Create a NumPy array\n",
        "my_array = np.array([[1, 2, 3], [4, 5, 6], [7, 8, 9]])\n",
        "\n",
        "# Use numpy.ndenumerate to iterate over indices and values\n",
        "for index, value in np.ndenumerate(my_array):\n",
        "    print(f\"Index {index}: Value {value}\")"
      ],
      "id": "ab02472a"
    },
    {
      "cell_type": "markdown",
      "metadata": {
        "id": "a2121a05"
      },
      "source": [
        "#### 56. Generate a generic 2D Gaussian-like array (★★☆)"
      ],
      "id": "a2121a05"
    },
    {
      "cell_type": "code",
      "execution_count": null,
      "metadata": {
        "id": "18507102",
        "colab": {
          "base_uri": "https://localhost:8080/",
          "height": 256
        },
        "outputId": "9dbe32ab-3534-4792-ebdc-15377a248fa2"
      },
      "outputs": [
        {
          "output_type": "display_data",
          "data": {
            "text/plain": [
              "<Figure size 640x480 with 2 Axes>"
            ],
            "image/png": "[encoded data removed]"
          },
          "metadata": {}
        }
      ],
      "source": [
        "\n",
        "import numpy as np\n",
        "import matplotlib.pyplot as plt\n",
        "\n",
        "# Define parameters\n",
        "A = 1.0  # Amplitude\n",
        "mu_x, mu_y = 0.0, 0.0  # Mean values\n",
        "sigma_x, sigma_y = 1.0, 2.0  # Standard deviations\n",
        "\n",
        "# Create a grid of coordinates\n",
        "x = np.linspace(-5, 5, 100)\n",
        "y = np.linspace(-5, 5, 100)\n",
        "x, y = np.meshgrid(x, y)\n",
        "\n",
        "# Generate the Gaussian-like array\n",
        "gaussian_array = A * np.exp(-(x - mu_x)**2 / (2 * sigma_x**2) - (y - mu_y)**2 / (2 * sigma_y**2))\n",
        "\n",
        "# Display the Gaussian-like array\n",
        "plt.imshow(gaussian_array, cmap='viridis', extent=(-5, 5, -5, 5), origin='lower')\n",
        "plt.title('2D Gaussian-like Array')\n",
        "plt.colorbar()\n",
        "plt.show()"
      ],
      "id": "18507102"
    },
    {
      "cell_type": "code",
      "source": [],
      "metadata": {
        "id": "SU6J0rJm0JRv"
      },
      "id": "SU6J0rJm0JRv",
      "execution_count": null,
      "outputs": []
    },
    {
      "cell_type": "markdown",
      "metadata": {
        "id": "97055efa"
      },
      "source": [
        "#### 57. How to randomly place p elements in a 2D array? (★★☆)"
      ],
      "id": "97055efa"
    },
    {
      "cell_type": "code",
      "execution_count": null,
      "metadata": {
        "id": "292e842f",
        "colab": {
          "base_uri": "https://localhost:8080/"
        },
        "outputId": "40c3c848-e229-45ed-d6d2-94332b0d88ff"
      },
      "outputs": [
        {
          "output_type": "stream",
          "name": "stdout",
          "text": [
            "[[1, 0, 0, 0, 0], [0, 1, 0, 0, 0], [1, 0, 0, 0, 0], [0, 0, 0, 0, 0], [0, 0, 0, 0, 0]]\n"
          ]
        }
      ],
      "source": [
        "\n",
        "import random\n",
        "\n",
        "def randomly_place_elements(rows, columns, p):\n",
        "    # Initialize a 2D array with zeros\n",
        "    array_2d = [[0 for _ in range(columns)] for _ in range(rows)]\n",
        "\n",
        "    # Randomly place p elements\n",
        "    for _ in range(p):\n",
        "        row_index = random.randint(0, rows - 1)\n",
        "        col_index = random.randint(0, columns - 1)\n",
        "\n",
        "        # Check if the selected position is already occupied\n",
        "        while array_2d[row_index][col_index] != 0:\n",
        "            row_index = random.randint(0, rows - 1)\n",
        "            col_index = random.randint(0, columns - 1)\n",
        "\n",
        "        # Place the element at the random position\n",
        "        array_2d[row_index][col_index] = 1  # You can replace 1 with your desired value\n",
        "\n",
        "    return array_2d\n",
        "\n",
        "# Example usage: create a 5x5 array and randomly place 3 elements\n",
        "result_array = randomly_place_elements(5, 5, 3)\n",
        "print(result_array)"
      ],
      "id": "292e842f"
    },
    {
      "cell_type": "markdown",
      "metadata": {
        "id": "bfd2513c"
      },
      "source": [
        "#### 58. Subtract the mean of each row of a matrix (★★☆)"
      ],
      "id": "bfd2513c"
    },
    {
      "cell_type": "code",
      "execution_count": null,
      "metadata": {
        "id": "f306ab72",
        "colab": {
          "base_uri": "https://localhost:8080/"
        },
        "outputId": "6625e71f-d490-4665-d200-1922a6856d4e"
      },
      "outputs": [
        {
          "output_type": "stream",
          "name": "stdout",
          "text": [
            "[[-1.0, 0.0, 1.0], [-1.0, 0.0, 1.0], [-1.0, 0.0, 1.0]]\n"
          ]
        }
      ],
      "source": [
        "\n",
        "import numpy as np\n",
        "\n",
        "def subtract_row_means(matrix):\n",
        "    # Convert the matrix to a NumPy array\n",
        "    np_matrix = np.array(matrix)\n",
        "\n",
        "    # Calculate the mean of each row\n",
        "    row_means = np.mean(np_matrix, axis=1, keepdims=True)\n",
        "\n",
        "    # Subtract the row means from the original matrix\n",
        "    result_matrix = np_matrix - row_means\n",
        "\n",
        "    return result_matrix.tolist()\n",
        "\n",
        "# Example usage:\n",
        "matrix = [[1, 2, 3], [4, 5, 6], [7, 8, 9]]\n",
        "result = subtract_row_means(matrix)\n",
        "print(result)"
      ],
      "id": "f306ab72"
    },
    {
      "cell_type": "markdown",
      "metadata": {
        "id": "da9f2f9b"
      },
      "source": [
        "#### 59. How to sort an array by the nth column? (★★☆)"
      ],
      "id": "da9f2f9b"
    },
    {
      "cell_type": "code",
      "execution_count": null,
      "metadata": {
        "id": "68cde57f",
        "colab": {
          "base_uri": "https://localhost:8080/"
        },
        "outputId": "fc79daaf-1a92-4f78-a4c7-b98791e9db0d"
      },
      "outputs": [
        {
          "output_type": "stream",
          "name": "stdout",
          "text": [
            "[[3, 1, 2], [4, 2, 6], [1, 7, 3], [5, 8, 9]]\n"
          ]
        }
      ],
      "source": [
        "\n",
        "def sort_array_by_nth_column(array, n):\n",
        "    # Use the sorted function with a lambda function as the key\n",
        "    sorted_array = sorted(array, key=lambda x: x[n])\n",
        "\n",
        "    return sorted_array\n",
        "\n",
        "# Example usage:\n",
        "my_array = [\n",
        "    [4, 2, 6],\n",
        "    [1, 7, 3],\n",
        "    [5, 8, 9],\n",
        "    [3, 1, 2]\n",
        "]\n",
        "\n",
        "# Sort by the 2nd column (index 1)\n",
        "sorted_array = sort_array_by_nth_column(my_array, 1)\n",
        "print(sorted_array)"
      ],
      "id": "68cde57f"
    },
    {
      "cell_type": "markdown",
      "metadata": {
        "id": "5b7be45c"
      },
      "source": [
        "#### 60. How to tell if a given 2D array has null columns? (★★☆)"
      ],
      "id": "5b7be45c"
    },
    {
      "cell_type": "code",
      "execution_count": null,
      "metadata": {
        "id": "7dbe2c27",
        "colab": {
          "base_uri": "https://localhost:8080/"
        },
        "outputId": "15afac88-49a4-46ab-f70a-637d2b67b909"
      },
      "outputs": [
        {
          "output_type": "stream",
          "name": "stdout",
          "text": [
            "True\n"
          ]
        }
      ],
      "source": [
        "\n",
        "def has_null_columns(matrix):\n",
        "    # Transpose the matrix to iterate through columns\n",
        "    transposed_matrix = list(map(list, zip(*matrix)))\n",
        "\n",
        "    # Check if any column has all null or empty values\n",
        "    for column in transposed_matrix:\n",
        "        if all(element is None or not element for element in column):\n",
        "            return True  # Found a null column\n",
        "\n",
        "    return False  # No null columns found\n",
        "\n",
        "# Example usage:\n",
        "my_matrix = [\n",
        "    [1, None, 3],\n",
        "    [4, \"\", 6],\n",
        "    [None, 8, None],\n",
        "    [7, 9, 10]\n",
        "]\n",
        "\n",
        "result = has_null_columns(my_matrix)\n",
        "print(result)"
      ],
      "id": "7dbe2c27"
    },
    {
      "cell_type": "markdown",
      "metadata": {
        "id": "7c18c02e"
      },
      "source": [
        "#### 61. Find the nearest value from a given value in an array (★★☆)"
      ],
      "id": "7c18c02e"
    },
    {
      "cell_type": "code",
      "execution_count": null,
      "metadata": {
        "id": "b78ae9c4",
        "colab": {
          "base_uri": "https://localhost:8080/"
        },
        "outputId": "730b505c-3db8-4b2d-d18a-95c5f3c77c19"
      },
      "outputs": [
        {
          "output_type": "stream",
          "name": "stdout",
          "text": [
            "7\n"
          ]
        }
      ],
      "source": [
        "\n",
        "def find_nearest_value(arr, target):\n",
        "    nearest_value = min(arr, key=lambda x: abs(x - target))\n",
        "    return nearest_value\n",
        "\n",
        "# Example usage:\n",
        "my_array = [1, 4, 7, 10, 13]\n",
        "target_value = 8\n",
        "result = find_nearest_value(my_array, target_value)\n",
        "print(result)"
      ],
      "id": "b78ae9c4"
    },
    {
      "cell_type": "markdown",
      "metadata": {
        "id": "8174ba2c"
      },
      "source": [
        "#### 62. Considering two arrays with shape (1,3) and (3,1), how to compute their sum using an iterator? (★★☆)"
      ],
      "id": "8174ba2c"
    },
    {
      "cell_type": "code",
      "execution_count": null,
      "metadata": {
        "id": "8a18fe57",
        "colab": {
          "base_uri": "https://localhost:8080/"
        },
        "outputId": "65d9a8cb-2f11-4b8a-fffc-b751177f7fb0"
      },
      "outputs": [
        {
          "output_type": "stream",
          "name": "stdout",
          "text": [
            "21\n"
          ]
        }
      ],
      "source": [
        "\n",
        "import numpy as np\n",
        "\n",
        "def compute_sum_with_iterator(array1, array2):\n",
        "    iterator1 = np.nditer(array1)\n",
        "    iterator2 = np.nditer(array2)\n",
        "\n",
        "    result_sum = 0\n",
        "\n",
        "    while not (iterator1.finished or iterator2.finished):\n",
        "        result_sum += iterator1[0] + iterator2[0]\n",
        "        iterator1.iternext()\n",
        "        iterator2.iternext()\n",
        "\n",
        "    return result_sum\n",
        "\n",
        "# Example usage:\n",
        "array1 = np.array([[1, 2, 3]])\n",
        "array2 = np.array([[4], [5], [6]])\n",
        "\n",
        "result = compute_sum_with_iterator(array1, array2)\n",
        "print(result)"
      ],
      "id": "8a18fe57"
    },
    {
      "cell_type": "markdown",
      "metadata": {
        "id": "9189bd7c"
      },
      "source": [
        "#### 63. Create an array class that has a name attribute (★★☆)"
      ],
      "id": "9189bd7c"
    },
    {
      "cell_type": "code",
      "execution_count": null,
      "metadata": {
        "id": "1c01ed42",
        "colab": {
          "base_uri": "https://localhost:8080/"
        },
        "outputId": "3fff1953-31fb-4865-bc3b-5e607e967f89"
      },
      "outputs": [
        {
          "output_type": "stream",
          "name": "stdout",
          "text": [
            "Array1\n",
            "[1, 2, 3]\n",
            "Array1: [1, 2, 3]\n"
          ]
        }
      ],
      "source": [
        "\n",
        "class NamedArray:\n",
        "    def __init__(self, name, data):\n",
        "        self.name = name\n",
        "        self.data = data\n",
        "\n",
        "    def __str__(self):\n",
        "        return f\"{self.name}: {self.data}\"\n",
        "\n",
        "# Example usage:\n",
        "my_named_array = NamedArray(\"Array1\", [1, 2, 3])\n",
        "print(my_named_array.name)  # Output: Array1\n",
        "print(my_named_array.data)  # Output: [1, 2, 3]\n",
        "print(my_named_array)       # Output: Array1: [1, 2, 3]"
      ],
      "id": "1c01ed42"
    },
    {
      "cell_type": "markdown",
      "metadata": {
        "id": "f30162d2"
      },
      "source": [
        "#### 64. Consider a given vector, how to add 1 to each element indexed by a second vector (be careful with repeated indices)? (★★★)"
      ],
      "id": "f30162d2"
    },
    {
      "cell_type": "code",
      "execution_count": null,
      "metadata": {
        "id": "093ba36f",
        "colab": {
          "base_uri": "https://localhost:8080/"
        },
        "outputId": "4f479fef-655f-4cc3-a161-ae21f4c73d30"
      },
      "outputs": [
        {
          "output_type": "stream",
          "name": "stdout",
          "text": [
            "[2 2 5 5 6]\n"
          ]
        }
      ],
      "source": [
        "\n",
        "import numpy as np\n",
        "\n",
        "def add_one_to_elements(vector, indices):\n",
        "    result_vector = np.copy(vector)  # Create a copy to avoid modifying the original vector\n",
        "\n",
        "    unique_indices, counts = np.unique(indices, return_counts=True)\n",
        "\n",
        "    # Add 1 to elements at unique indices\n",
        "    result_vector[unique_indices] += 1\n",
        "\n",
        "    # Handle repeated indices\n",
        "    for idx, count in zip(unique_indices, counts):\n",
        "        if count > 1:\n",
        "            result_vector[idx] += count - 1\n",
        "\n",
        "    return result_vector\n",
        "\n",
        "# Example usage:\n",
        "given_vector = np.array([1, 2, 3, 4, 5])\n",
        "index_vector = np.array([0, 2, 3, 2, 4])\n",
        "\n",
        "result = add_one_to_elements(given_vector, index_vector)\n",
        "print(result)"
      ],
      "id": "093ba36f"
    },
    {
      "cell_type": "markdown",
      "metadata": {
        "id": "f5b1c584"
      },
      "source": [
        "#### 65. How to accumulate elements of a vector (X) to an array (F) based on an index list (I)? (★★★)"
      ],
      "id": "f5b1c584"
    },
    {
      "cell_type": "code",
      "execution_count": null,
      "metadata": {
        "id": "c9d92a75",
        "colab": {
          "base_uri": "https://localhost:8080/"
        },
        "outputId": "0bdb6b32-2ee8-4576-a2df-b6da95d06d7d"
      },
      "outputs": [
        {
          "output_type": "stream",
          "name": "stdout",
          "text": [
            "[1. 7. 7.]\n"
          ]
        }
      ],
      "source": [
        "\n",
        "import numpy as np\n",
        "\n",
        "def accumulate_elements(X, I, F):\n",
        "    np.add.at(F, I, X)\n",
        "\n",
        "# Example usage:\n",
        "X = np.array([1, 2, 3, 4, 5])\n",
        "I = np.array([0, 1, 2, 2, 1])\n",
        "F = np.zeros(np.max(I) + 1)\n",
        "\n",
        "accumulate_elements(X, I, F)\n",
        "\n",
        "print(F)"
      ],
      "id": "c9d92a75"
    },
    {
      "cell_type": "markdown",
      "metadata": {
        "id": "994c452d"
      },
      "source": [
        "#### 66. Considering a (w,h,3) image of (dtype=ubyte), compute the number of unique colors (★★☆)"
      ],
      "id": "994c452d"
    },
    {
      "cell_type": "code",
      "execution_count": null,
      "metadata": {
        "id": "269cdaea"
      },
      "outputs": [],
      "source": [
        "\n",
        "import numpy as np\n",
        "\n",
        "def count_unique_colors(image):\n",
        "    # Reshape the image to a 2D array where each row represents a pixel\n",
        "    reshaped_image = image.reshape((-1, 3))\n",
        "\n",
        "    # Convert to a contiguous array to ensure accurate unique color count\n",
        "    contiguous_image = np.ascontiguousarray(reshaped_image)\n",
        "\n",
        "    # Use"
      ],
      "id": "269cdaea"
    },
    {
      "cell_type": "markdown",
      "metadata": {
        "id": "4bddeb31"
      },
      "source": [
        "#### 67. Considering a four dimensions array, how to get sum over the last two axis at once? (★★★)"
      ],
      "id": "4bddeb31"
    },
    {
      "cell_type": "code",
      "execution_count": null,
      "metadata": {
        "id": "32af15f5",
        "colab": {
          "base_uri": "https://localhost:8080/"
        },
        "outputId": "a2d616aa-50f8-42f3-f317-f23768aea5b0"
      },
      "outputs": [
        {
          "output_type": "stream",
          "name": "stdout",
          "text": [
            "[[ 86 104  90]\n",
            " [ 64  83  93]]\n"
          ]
        }
      ],
      "source": [
        "\n",
        "import numpy as np\n",
        "\n",
        "# Create a sample 4D array\n",
        "four_dim_array = np.random.randint(0, 10, size=(2, 3, 4, 5))\n",
        "\n",
        "# Sum over the last two axes (axis=(2, 3))\n",
        "result = np.sum(four_dim_array, axis=(2, 3))\n",
        "\n",
        "print(result)"
      ],
      "id": "32af15f5"
    },
    {
      "cell_type": "markdown",
      "metadata": {
        "id": "c4cf083c"
      },
      "source": [
        "#### 68. Considering a one-dimensional vector D, how to compute means of subsets of D using a vector S of same size describing subset  indices? (★★★)"
      ],
      "id": "c4cf083c"
    },
    {
      "cell_type": "code",
      "execution_count": null,
      "metadata": {
        "id": "9600a2dd",
        "colab": {
          "base_uri": "https://localhost:8080/"
        },
        "outputId": "e84ebe7b-4809-4db8-a678-752366d7f9aa"
      },
      "outputs": [
        {
          "output_type": "stream",
          "name": "stdout",
          "text": [
            "[2.0, 3.0, 5.5]\n"
          ]
        }
      ],
      "source": [
        "\n",
        "import numpy as np\n",
        "\n",
        "def compute_means_of_subsets(D, S):\n",
        "    unique_indices = np.unique(S)\n",
        "\n",
        "    means = [np.mean(D[S == idx]) for idx in unique_indices]\n",
        "\n",
        "    return means\n",
        "\n",
        "# Example usage:\n",
        "D = np.array([1, 2, 3, 4, 5, 6])\n",
        "S = np.array([0, 1, 0, 1, 2, 2])\n",
        "\n",
        "subset_means = compute_means_of_subsets(D, S)\n",
        "print(subset_means)"
      ],
      "id": "9600a2dd"
    },
    {
      "cell_type": "markdown",
      "metadata": {
        "id": "a5e316db"
      },
      "source": [
        "#### 69. How to get the diagonal of a dot product? (★★★)"
      ],
      "id": "a5e316db"
    },
    {
      "cell_type": "code",
      "execution_count": null,
      "metadata": {
        "id": "94735dbd",
        "colab": {
          "base_uri": "https://localhost:8080/"
        },
        "outputId": "4cf5f4fa-a347-468f-ab8d-6684e80c307a"
      },
      "outputs": [
        {
          "output_type": "stream",
          "name": "stdout",
          "text": [
            "[19 50]\n"
          ]
        }
      ],
      "source": [
        "\n",
        "import numpy as np\n",
        "\n",
        "# Create two matrices A and B\n",
        "A = np.array([[1, 2], [3, 4]])\n",
        "B = np.array([[5, 6], [7, 8]])\n",
        "\n",
        "# Compute the dot product of A and B\n",
        "dot_product = np.dot(A, B)\n",
        "\n",
        "# Get the diagonal of the dot product\n",
        "diagonal_result = np.diagonal(dot_product)\n",
        "\n",
        "print(diagonal_result)"
      ],
      "id": "94735dbd"
    },
    {
      "cell_type": "markdown",
      "metadata": {
        "id": "de727a7b"
      },
      "source": [
        "#### 70. Consider the vector [1, 2, 3, 4, 5], how to build a new vector with 3 consecutive zeros interleaved between each value? (★★★)"
      ],
      "id": "de727a7b"
    },
    {
      "cell_type": "code",
      "execution_count": null,
      "metadata": {
        "id": "982be812",
        "colab": {
          "base_uri": "https://localhost:8080/",
          "height": 602
        },
        "outputId": "d779cda1-7443-444a-e5ab-6954a760405f"
      },
      "outputs": [
        {
          "output_type": "error",
          "ename": "ValueError",
          "evalue": "ignored",
          "traceback": [
            "\u001b[0;31m---------------------------------------------------------------------------\u001b[0m",
            "\u001b[0;31mValueError\u001b[0m                                Traceback (most recent call last)",
            "\u001b[0;32m<ipython-input-52-ded9d5011f6c>\u001b[0m in \u001b[0;36m<cell line: 6>\u001b[0;34m()\u001b[0m\n\u001b[1;32m      4\u001b[0m \u001b[0mzeros_between_values\u001b[0m \u001b[0;34m=\u001b[0m \u001b[0mnp\u001b[0m\u001b[0;34m.\u001b[0m\u001b[0mrepeat\u001b[0m\u001b[0;34m(\u001b[0m\u001b[0;36m0\u001b[0m\u001b[0;34m,\u001b[0m \u001b[0;36m3\u001b[0m\u001b[0;34m)\u001b[0m\u001b[0;34m\u001b[0m\u001b[0;34m\u001b[0m\u001b[0m\n\u001b[1;32m      5\u001b[0m \u001b[0;34m\u001b[0m\u001b[0m\n\u001b[0;32m----> 6\u001b[0;31m \u001b[0mnew_vector\u001b[0m \u001b[0;34m=\u001b[0m \u001b[0mnp\u001b[0m\u001b[0;34m.\u001b[0m\u001b[0mtile\u001b[0m\u001b[0;34m(\u001b[0m\u001b[0mnp\u001b[0m\u001b[0;34m.\u001b[0m\u001b[0mcolumn_stack\u001b[0m\u001b[0;34m(\u001b[0m\u001b[0;34m(\u001b[0m\u001b[0moriginal_vector\u001b[0m\u001b[0;34m,\u001b[0m \u001b[0mzeros_between_values\u001b[0m\u001b[0;34m)\u001b[0m\u001b[0;34m)\u001b[0m\u001b[0;34m.\u001b[0m\u001b[0mravel\u001b[0m\u001b[0;34m(\u001b[0m\u001b[0;34m)\u001b[0m\u001b[0;34m[\u001b[0m\u001b[0;34m:\u001b[0m\u001b[0;34m-\u001b[0m\u001b[0;36m3\u001b[0m\u001b[0;34m]\u001b[0m\u001b[0;34m,\u001b[0m \u001b[0;36m2\u001b[0m\u001b[0;34m)\u001b[0m\u001b[0;34m\u001b[0m\u001b[0;34m\u001b[0m\u001b[0m\n\u001b[0m\u001b[1;32m      7\u001b[0m \u001b[0;34m\u001b[0m\u001b[0m\n\u001b[1;32m      8\u001b[0m \u001b[0mprint\u001b[0m\u001b[0;34m(\u001b[0m\u001b[0mnew_vector\u001b[0m\u001b[0;34m)\u001b[0m\u001b[0;34m\u001b[0m\u001b[0;34m\u001b[0m\u001b[0m\n",
            "\u001b[0;32m/usr/local/lib/python3.10/dist-packages/numpy/core/overrides.py\u001b[0m in \u001b[0;36mcolumn_stack\u001b[0;34m(*args, **kwargs)\u001b[0m\n",
            "\u001b[0;32m/usr/local/lib/python3.10/dist-packages/numpy/lib/shape_base.py\u001b[0m in \u001b[0;36mcolumn_stack\u001b[0;34m(tup)\u001b[0m\n\u001b[1;32m    654\u001b[0m             \u001b[0marr\u001b[0m \u001b[0;34m=\u001b[0m \u001b[0marray\u001b[0m\u001b[0;34m(\u001b[0m\u001b[0marr\u001b[0m\u001b[0;34m,\u001b[0m \u001b[0mcopy\u001b[0m\u001b[0;34m=\u001b[0m\u001b[0;32mFalse\u001b[0m\u001b[0;34m,\u001b[0m \u001b[0msubok\u001b[0m\u001b[0;34m=\u001b[0m\u001b[0;32mTrue\u001b[0m\u001b[0;34m,\u001b[0m \u001b[0mndmin\u001b[0m\u001b[0;34m=\u001b[0m\u001b[0;36m2\u001b[0m\u001b[0;34m)\u001b[0m\u001b[0;34m.\u001b[0m\u001b[0mT\u001b[0m\u001b[0;34m\u001b[0m\u001b[0;34m\u001b[0m\u001b[0m\n\u001b[1;32m    655\u001b[0m         \u001b[0marrays\u001b[0m\u001b[0;34m.\u001b[0m\u001b[0mappend\u001b[0m\u001b[0;34m(\u001b[0m\u001b[0marr\u001b[0m\u001b[0;34m)\u001b[0m\u001b[0;34m\u001b[0m\u001b[0;34m\u001b[0m\u001b[0m\n\u001b[0;32m--> 656\u001b[0;31m     \u001b[0;32mreturn\u001b[0m \u001b[0m_nx\u001b[0m\u001b[0;34m.\u001b[0m\u001b[0mconcatenate\u001b[0m\u001b[0;34m(\u001b[0m\u001b[0marrays\u001b[0m\u001b[0;34m,\u001b[0m \u001b[0;36m1\u001b[0m\u001b[0;34m)\u001b[0m\u001b[0;34m\u001b[0m\u001b[0;34m\u001b[0m\u001b[0m\n\u001b[0m\u001b[1;32m    657\u001b[0m \u001b[0;34m\u001b[0m\u001b[0m\n\u001b[1;32m    658\u001b[0m \u001b[0;34m\u001b[0m\u001b[0m\n",
            "\u001b[0;32m/usr/local/lib/python3.10/dist-packages/numpy/core/overrides.py\u001b[0m in \u001b[0;36mconcatenate\u001b[0;34m(*args, **kwargs)\u001b[0m\n",
            "\u001b[0;31mValueError\u001b[0m: all the input array dimensions for the concatenation axis must match exactly, but along dimension 0, the array at index 0 has size 5 and the array at index 1 has size 3"
          ]
        }
      ],
      "source": [
        "\n",
        "import numpy as np\n",
        "\n",
        "original_vector = np.array([1, 2, 3, 4, 5])\n",
        "zeros_between_values = np.repeat(0, 3)\n",
        "\n",
        "new_vector = np.tile(np.column_stack((original_vector, zeros_between_values)).ravel()[:-3], 2)\n",
        "\n",
        "print(new_vector)"
      ],
      "id": "982be812"
    },
    {
      "cell_type": "markdown",
      "metadata": {
        "id": "a9a73d6b"
      },
      "source": [
        "#### 71. Consider an array of dimension (5,5,3), how to mulitply it by an array with dimensions (5,5)? (★★★)"
      ],
      "id": "a9a73d6b"
    },
    {
      "cell_type": "code",
      "execution_count": null,
      "metadata": {
        "id": "282a90cc",
        "colab": {
          "base_uri": "https://localhost:8080/"
        },
        "outputId": "ab2feed7-3771-4787-fea0-be9eb047c61b"
      },
      "outputs": [
        {
          "output_type": "stream",
          "name": "stdout",
          "text": [
            "[[[3.62141516e-01 5.58427284e-01 4.80075752e-01]\n",
            "  [1.03223480e-01 8.93748111e-02 1.11426394e-01]\n",
            "  [7.94948538e-03 1.57818720e-01 8.53607767e-02]\n",
            "  [3.01005876e-01 3.12700810e-02 2.95996387e-01]\n",
            "  [1.46502188e-02 5.65651198e-02 1.09257611e-01]]\n",
            "\n",
            " [[6.26982141e-01 3.13507581e-01 4.72604597e-01]\n",
            "  [5.91297849e-01 1.11034768e-02 4.33620474e-01]\n",
            "  [2.57895683e-01 3.58656909e-01 8.09144254e-01]\n",
            "  [3.21710388e-01 2.53270622e-01 3.17054209e-01]\n",
            "  [1.95220054e-01 2.26164472e-01 1.89747869e-01]]\n",
            "\n",
            " [[2.57716140e-01 3.46488741e-01 2.91429822e-01]\n",
            "  [5.75047064e-04 1.22390007e-02 1.51882633e-02]\n",
            "  [2.62829276e-02 1.03036077e-02 9.29292633e-03]\n",
            "  [1.73133641e-01 9.13377046e-02 1.75151552e-02]\n",
            "  [1.57580063e-01 5.35203266e-01 1.35662070e-02]]\n",
            "\n",
            " [[5.75528497e-01 2.18534504e-01 7.69302241e-03]\n",
            "  [4.21983473e-01 6.90017293e-01 2.86889048e-02]\n",
            "  [3.26658495e-02 1.93558982e-01 2.15943768e-01]\n",
            "  [5.97500546e-02 1.84973977e-01 2.46660828e-01]\n",
            "  [5.07750651e-01 5.17711149e-01 4.21951354e-02]]\n",
            "\n",
            " [[2.91573437e-02 1.26081958e-03 2.89451602e-03]\n",
            "  [3.52742412e-01 1.24284210e-01 1.44775169e-01]\n",
            "  [1.15340944e-01 4.15664419e-01 1.28018697e-02]\n",
            "  [1.68451426e-01 2.83606636e-02 7.24104484e-02]\n",
            "  [4.05769823e-02 9.71465934e-02 1.00749836e-01]]]\n"
          ]
        }
      ],
      "source": [
        "\n",
        "import numpy as np\n",
        "\n",
        "# Create a 3D array (5, 5, 3)\n",
        "array_3d = np.random.random((5, 5, 3))\n",
        "\n",
        "# Create a 2D array (5, 5)\n",
        "array_2d = np.random.random((5, 5))\n",
        "\n",
        "# Multiply the 3D array by the 2D array using broadcasting\n",
        "result = array_3d * array_2d[:, :, np.newaxis]\n",
        "\n",
        "print(result)"
      ],
      "id": "282a90cc"
    },
    {
      "cell_type": "markdown",
      "metadata": {
        "id": "a951c78f"
      },
      "source": [
        "#### 72. How to swap two rows of an array? (★★★)"
      ],
      "id": "a951c78f"
    },
    {
      "cell_type": "code",
      "execution_count": null,
      "metadata": {
        "id": "e29b3fde",
        "colab": {
          "base_uri": "https://localhost:8080/"
        },
        "outputId": "c5cbf101-f2ae-4bfd-f6a2-8d3c84a4b951"
      },
      "outputs": [
        {
          "output_type": "stream",
          "name": "stdout",
          "text": [
            "[[1 2 3]\n",
            " [7 8 9]\n",
            " [4 5 6]]\n"
          ]
        }
      ],
      "source": [
        "\n",
        "import numpy as np\n",
        "\n",
        "# Create a sample array\n",
        "my_array = np.array([[1, 2, 3],\n",
        "                     [4, 5, 6],\n",
        "                     [7, 8, 9]])\n",
        "\n",
        "# Swap rows 1 and 2 (0-based index)\n",
        "my_array[[1, 2]] = my_array[[2, 1]]\n",
        "\n",
        "print(my_array)"
      ],
      "id": "e29b3fde"
    },
    {
      "cell_type": "markdown",
      "metadata": {
        "id": "43b639e8"
      },
      "source": [
        "#### 73. Consider a set of 10 triplets describing 10 triangles (with shared vertices), find the set of unique line segments composing all the  triangles (★★★)"
      ],
      "id": "43b639e8"
    },
    {
      "cell_type": "code",
      "execution_count": null,
      "metadata": {
        "id": "147e1034",
        "colab": {
          "base_uri": "https://localhost:8080/"
        },
        "outputId": "9e86a5b1-aa11-4f9d-8989-e1fcc2f38612"
      },
      "outputs": [
        {
          "output_type": "stream",
          "name": "stdout",
          "text": [
            "[(3, 4), (3, 1), (8, 9), (8, 6), (1, 9), (4, 2), (4, 5), (5, 6), (5, 3), (9, 7), (9, 10), (1, 2), (10, 8), (2, 10), (6, 4), (6, 7), (10, 1), (2, 3), (7, 5), (7, 8)]\n"
          ]
        }
      ],
      "source": [
        "\n",
        "triangles = [\n",
        "    (1, 2, 3),\n",
        "    (2, 3, 4),\n",
        "    (3, 4, 5),\n",
        "    (4, 5, 6),\n",
        "    (5, 6, 7),\n",
        "    (6, 7, 8),\n",
        "    (7, 8, 9),\n",
        "    (8, 9, 10),\n",
        "    (9, 10, 1),\n",
        "    (10, 1, 2)\n",
        "]\n",
        "\n",
        "segments_set = set()\n",
        "\n",
        "for triangle in triangles:\n",
        "    # Extract segments from each triangle\n",
        "    segments = [(triangle[i], triangle[i + 1]) for i in range(2)] + [(triangle[2], triangle[0])]\n",
        "\n",
        "    # Add segments to the set\n",
        "    segments_set.update(segments)\n",
        "\n",
        "unique_segments = list(segments_set)\n",
        "print(unique_segments)"
      ],
      "id": "147e1034"
    },
    {
      "cell_type": "markdown",
      "metadata": {
        "id": "d41de585"
      },
      "source": [
        "#### 74. Given a sorted array C that corresponds to a bincount, how to produce an array A such that np.bincount(A) == C? (★★★)"
      ],
      "id": "d41de585"
    },
    {
      "cell_type": "code",
      "execution_count": null,
      "metadata": {
        "id": "5f5d6e36",
        "colab": {
          "base_uri": "https://localhost:8080/"
        },
        "outputId": "90efc5a8-7609-456b-a7d3-49585c2802e6"
      },
      "outputs": [
        {
          "output_type": "stream",
          "name": "stdout",
          "text": [
            "[1 1 2 4 5 5 6 8]\n"
          ]
        }
      ],
      "source": [
        "\n",
        "import numpy as np\n",
        "\n",
        "# Example sorted array C (bincount)\n",
        "C = np.array([0, 2, 1, 0, 1, 2, 1, 0, 1])\n",
        "\n",
        "# Generate array A from C\n",
        "A = np.repeat(np.arange(len(C)), C)\n",
        "\n",
        "print(A)"
      ],
      "id": "5f5d6e36"
    },
    {
      "cell_type": "markdown",
      "metadata": {
        "id": "b50adf7c"
      },
      "source": [
        "#### 75. How to compute averages using a sliding window over an array? (★★★)"
      ],
      "id": "b50adf7c"
    },
    {
      "cell_type": "code",
      "execution_count": null,
      "metadata": {
        "id": "e631a9d2",
        "colab": {
          "base_uri": "https://localhost:8080/"
        },
        "outputId": "59743211-f8a6-4e0a-fe4d-040e6c41443f"
      },
      "outputs": [
        {
          "output_type": "stream",
          "name": "stdout",
          "text": [
            "[2. 3. 4. 5. 6. 7. 8.]\n"
          ]
        }
      ],
      "source": [
        "\n",
        "import numpy as np\n",
        "\n",
        "def sliding_window_average(arr, window_size):\n",
        "    cumsum = np.cumsum(arr)\n",
        "    cumsum[window_size:] = cumsum[window_size:] - cumsum[:-window_size]\n",
        "    return cumsum[window_size - 1:] / window_size\n",
        "\n",
        "# Example usage:\n",
        "arr = np.array([1, 2, 3, 4, 5, 6, 7, 8, 9])\n",
        "window_size = 3\n",
        "\n",
        "result = sliding_window_average(arr, window_size)\n",
        "print(result)"
      ],
      "id": "e631a9d2"
    },
    {
      "cell_type": "markdown",
      "metadata": {
        "id": "1ab4c50d"
      },
      "source": [
        "#### 76. Consider a one-dimensional array Z, build a two-dimensional array whose first row is (Z[0],Z[1],Z[2]) and each subsequent row is  shifted by 1 (last row should be (Z[-3],Z[-2],Z[-1]) (★★★)"
      ],
      "id": "1ab4c50d"
    },
    {
      "cell_type": "code",
      "execution_count": null,
      "metadata": {
        "id": "3ccfe2c0",
        "colab": {
          "base_uri": "https://localhost:8080/"
        },
        "outputId": "a7c438ee-7f0e-427c-8de9-70053149a2fd"
      },
      "outputs": [
        {
          "output_type": "stream",
          "name": "stdout",
          "text": [
            "[[1 2 3]\n",
            " [2 3 4]\n",
            " [3 4 5]\n",
            " [4 5 6]]\n"
          ]
        }
      ],
      "source": [
        "\n",
        "import numpy as np\n",
        "\n",
        "# Example one-dimensional array Z\n",
        "Z = np.array([1, 2, 3, 4, 5, 6])\n",
        "\n",
        "# Build the two-dimensional array with shifted rows\n",
        "result = np.vstack([Z[i:i+3] for i in range(len(Z)-2)])\n",
        "\n",
        "print(result)"
      ],
      "id": "3ccfe2c0"
    },
    {
      "cell_type": "markdown",
      "metadata": {
        "id": "5b4fe59d"
      },
      "source": [
        "#### 77. How to negate a boolean, or to change the sign of a float inplace? (★★★)"
      ],
      "id": "5b4fe59d"
    },
    {
      "cell_type": "code",
      "execution_count": null,
      "metadata": {
        "id": "3c2373ff",
        "colab": {
          "base_uri": "https://localhost:8080/"
        },
        "outputId": "7bcb692b-540a-46f6-a1c4-253bbf2d5bc2"
      },
      "outputs": [
        {
          "output_type": "stream",
          "name": "stdout",
          "text": [
            "False\n",
            "-3.14\n"
          ]
        }
      ],
      "source": [
        "\n",
        "original_boolean = True\n",
        "negated_boolean = not original_boolean\n",
        "\n",
        "print(negated_boolean)\n",
        "original_float = 3.14\n",
        "original_float *= -1\n",
        "\n",
        "print(original_float)"
      ],
      "id": "3c2373ff"
    },
    {
      "cell_type": "markdown",
      "metadata": {
        "id": "119ab5af"
      },
      "source": [
        "#### 78. Consider 2 sets of points P0,P1 describing lines (2d) and a point p, how to compute distance from p to each line i (P0[i],P1[i])? (★★★)"
      ],
      "id": "119ab5af"
    },
    {
      "cell_type": "code",
      "execution_count": null,
      "metadata": {
        "id": "1d8d06dc",
        "colab": {
          "base_uri": "https://localhost:8080/"
        },
        "outputId": "32fbf414-df6f-4119-c13d-51b6d5201c94"
      },
      "outputs": [
        {
          "output_type": "stream",
          "name": "stdout",
          "text": [
            "[0.0, 0.0, 0.0]\n"
          ]
        }
      ],
      "source": [
        "\n",
        "import numpy as np\n",
        "\n",
        "def distance_point_to_line(p, P0, P1):\n",
        "    P0 = np.array(P0)\n",
        "    P1 = np.array(P1)\n",
        "    p = np.array(p)\n",
        "\n",
        "    # Calculate the cross product and magnitude\n",
        "    cross_product = np.abs(np.cross(P1 - P0, P0 - p))\n",
        "    magnitude = np.linalg.norm(P1 - P0)\n",
        "\n",
        "    # Compute the distance\n",
        "    distance = cross_product / magnitude\n",
        "\n",
        "    return distance\n",
        "\n",
        "# Example usage:\n",
        "p = [0, 0]\n",
        "P0 = [[1, 1], [2, 2], [3, 3]]\n",
        "P1 = [[4, 4], [5, 5], [6, 6]]\n",
        "\n",
        "distances = [distance_point_to_line(p, P0[i], P1[i]) for i in range(len(P0))]\n",
        "print(distances)"
      ],
      "id": "1d8d06dc"
    },
    {
      "cell_type": "markdown",
      "metadata": {
        "id": "e5e7f323"
      },
      "source": [
        "#### 79. Consider 2 sets of points P0,P1 describing lines (2d) and a set of points P, how to compute distance from each point j (P[j]) to each line i (P0[i],P1[i])? (★★★)"
      ],
      "id": "e5e7f323"
    },
    {
      "cell_type": "code",
      "execution_count": null,
      "metadata": {
        "id": "d0ce77e2",
        "colab": {
          "base_uri": "https://localhost:8080/"
        },
        "outputId": "df4a05a7-59f4-4b35-9762-b6152c5120eb"
      },
      "outputs": [
        {
          "output_type": "stream",
          "name": "stdout",
          "text": [
            "[[0.70710678 0.70710678 0.70710678]\n",
            " [0.70710678 0.70710678 0.70710678]\n",
            " [0.70710678 0.70710678 0.70710678]]\n"
          ]
        }
      ],
      "source": [
        "\n",
        "import numpy as np\n",
        "\n",
        "def distance_points_to_lines(P, P0, P1):\n",
        "    P0 = np.array(P0)\n",
        "    P1 = np.array(P1)\n",
        "    P = np.array(P)\n",
        "\n",
        "    # Calculate the cross product and magnitude\n",
        "    cross_product = np.abs(np.cross(P1 - P0, P0[:, np.newaxis, :] - P))\n",
        "    magnitude = np.linalg.norm(P1 - P0, axis=1)\n",
        "\n",
        "    # Compute the distance\n",
        "    distances = cross_product / magnitude[:, np.newaxis]\n",
        "\n",
        "    return distances\n",
        "\n",
        "# Example usage:\n",
        "P0 = [[1, 1], [2, 2], [3, 3]]\n",
        "P1 = [[4, 4], [5, 5], [6, 6]]\n",
        "P = [[2, 3], [4, 5], [6, 7]]\n",
        "\n",
        "distances = distance_points_to_lines(P, P0, P1)\n",
        "print(distances)"
      ],
      "id": "d0ce77e2"
    },
    {
      "cell_type": "markdown",
      "metadata": {
        "id": "9b9d03eb"
      },
      "source": [
        "#### 80. Consider an arbitrary array, write a function that extract a subpart with a fixed shape and centered on a given element (pad with a `fill` value when necessary) (★★★)"
      ],
      "id": "9b9d03eb"
    },
    {
      "cell_type": "code",
      "execution_count": null,
      "metadata": {
        "id": "ec2b7ae3",
        "colab": {
          "base_uri": "https://localhost:8080/",
          "height": 738
        },
        "outputId": "d7057bc0-8d60-48f3-aa24-88cfaaf85036"
      },
      "outputs": [
        {
          "output_type": "error",
          "ename": "AttributeError",
          "evalue": "ignored",
          "traceback": [
            "\u001b[0;31m---------------------------------------------------------------------------\u001b[0m",
            "\u001b[0;31mAttributeError\u001b[0m                            Traceback (most recent call last)",
            "\u001b[0;32m<ipython-input-63-419fdfab1e67>\u001b[0m in \u001b[0;36m<cell line: 24>\u001b[0;34m()\u001b[0m\n\u001b[1;32m     22\u001b[0m \u001b[0mfill_value\u001b[0m \u001b[0;34m=\u001b[0m \u001b[0;36m0\u001b[0m\u001b[0;34m\u001b[0m\u001b[0;34m\u001b[0m\u001b[0m\n\u001b[1;32m     23\u001b[0m \u001b[0;34m\u001b[0m\u001b[0m\n\u001b[0;32m---> 24\u001b[0;31m \u001b[0mresult\u001b[0m \u001b[0;34m=\u001b[0m \u001b[0mextract_subpart\u001b[0m\u001b[0;34m(\u001b[0m\u001b[0moriginal_array\u001b[0m\u001b[0;34m,\u001b[0m \u001b[0mcenter_element\u001b[0m\u001b[0;34m,\u001b[0m \u001b[0mdesired_shape\u001b[0m\u001b[0;34m,\u001b[0m \u001b[0mfill_value\u001b[0m\u001b[0;34m)\u001b[0m\u001b[0;34m\u001b[0m\u001b[0;34m\u001b[0m\u001b[0m\n\u001b[0m\u001b[1;32m     25\u001b[0m \u001b[0mprint\u001b[0m\u001b[0;34m(\u001b[0m\u001b[0mresult\u001b[0m\u001b[0;34m)\u001b[0m\u001b[0;34m\u001b[0m\u001b[0;34m\u001b[0m\u001b[0m\n",
            "\u001b[0;32m<ipython-input-63-419fdfab1e67>\u001b[0m in \u001b[0;36mextract_subpart\u001b[0;34m(array, center, shape, fill_value)\u001b[0m\n\u001b[1;32m     10\u001b[0m     \u001b[0mslices\u001b[0m \u001b[0;34m=\u001b[0m \u001b[0;34m[\u001b[0m\u001b[0mslice\u001b[0m\u001b[0;34m(\u001b[0m\u001b[0mmax\u001b[0m\u001b[0;34m(\u001b[0m\u001b[0;36m0\u001b[0m\u001b[0;34m,\u001b[0m \u001b[0mc\u001b[0m \u001b[0;34m-\u001b[0m \u001b[0ms\u001b[0m \u001b[0;34m//\u001b[0m \u001b[0;36m2\u001b[0m\u001b[0;34m)\u001b[0m\u001b[0;34m,\u001b[0m \u001b[0mmin\u001b[0m\u001b[0;34m(\u001b[0m\u001b[0mc\u001b[0m \u001b[0;34m+\u001b[0m \u001b[0;34m(\u001b[0m\u001b[0ms\u001b[0m \u001b[0;34m+\u001b[0m \u001b[0;36m1\u001b[0m\u001b[0;34m)\u001b[0m \u001b[0;34m//\u001b[0m \u001b[0;36m2\u001b[0m\u001b[0;34m,\u001b[0m \u001b[0ma\u001b[0m\u001b[0;34m)\u001b[0m\u001b[0;34m)\u001b[0m \u001b[0;32mfor\u001b[0m \u001b[0mc\u001b[0m\u001b[0;34m,\u001b[0m \u001b[0ms\u001b[0m\u001b[0;34m,\u001b[0m \u001b[0ma\u001b[0m \u001b[0;32min\u001b[0m \u001b[0mzip\u001b[0m\u001b[0;34m(\u001b[0m\u001b[0mcenter\u001b[0m\u001b[0;34m,\u001b[0m \u001b[0mshape\u001b[0m\u001b[0;34m,\u001b[0m \u001b[0marray\u001b[0m\u001b[0;34m.\u001b[0m\u001b[0mshape\u001b[0m\u001b[0;34m)\u001b[0m\u001b[0;34m]\u001b[0m\u001b[0;34m\u001b[0m\u001b[0;34m\u001b[0m\u001b[0m\n\u001b[1;32m     11\u001b[0m \u001b[0;34m\u001b[0m\u001b[0m\n\u001b[0;32m---> 12\u001b[0;31m     \u001b[0msubpart_slices\u001b[0m \u001b[0;34m=\u001b[0m \u001b[0;34m[\u001b[0m\u001b[0mslice\u001b[0m\u001b[0;34m(\u001b[0m\u001b[0mmax\u001b[0m\u001b[0;34m(\u001b[0m\u001b[0;36m0\u001b[0m\u001b[0;34m,\u001b[0m \u001b[0ms\u001b[0m\u001b[0;34m.\u001b[0m\u001b[0mstart\u001b[0m \u001b[0;34m-\u001b[0m \u001b[0mc\u001b[0m\u001b[0;34m.\u001b[0m\u001b[0mstart\u001b[0m\u001b[0;34m)\u001b[0m\u001b[0;34m,\u001b[0m \u001b[0mmin\u001b[0m\u001b[0;34m(\u001b[0m\u001b[0ms\u001b[0m\u001b[0;34m.\u001b[0m\u001b[0mstop\u001b[0m \u001b[0;34m-\u001b[0m \u001b[0mc\u001b[0m\u001b[0;34m.\u001b[0m\u001b[0mstart\u001b[0m\u001b[0;34m,\u001b[0m \u001b[0ms\u001b[0m\u001b[0;34m.\u001b[0m\u001b[0mstop\u001b[0m \u001b[0;34m-\u001b[0m \u001b[0mc\u001b[0m\u001b[0;34m.\u001b[0m\u001b[0mstart\u001b[0m \u001b[0;34m+\u001b[0m \u001b[0mc\u001b[0m\u001b[0;34m.\u001b[0m\u001b[0mstop\u001b[0m \u001b[0;34m-\u001b[0m \u001b[0ms\u001b[0m\u001b[0;34m.\u001b[0m\u001b[0mstop\u001b[0m\u001b[0;34m)\u001b[0m\u001b[0;34m)\u001b[0m \u001b[0;32mfor\u001b[0m \u001b[0mc\u001b[0m\u001b[0;34m,\u001b[0m \u001b[0ms\u001b[0m \u001b[0;32min\u001b[0m \u001b[0mzip\u001b[0m\u001b[0;34m(\u001b[0m\u001b[0mcenter\u001b[0m\u001b[0;34m,\u001b[0m \u001b[0mslices\u001b[0m\u001b[0;34m)\u001b[0m\u001b[0;34m]\u001b[0m\u001b[0;34m\u001b[0m\u001b[0;34m\u001b[0m\u001b[0m\n\u001b[0m\u001b[1;32m     13\u001b[0m \u001b[0;34m\u001b[0m\u001b[0m\n\u001b[1;32m     14\u001b[0m     \u001b[0msubpart\u001b[0m\u001b[0;34m[\u001b[0m\u001b[0msubpart_slices\u001b[0m\u001b[0;34m]\u001b[0m \u001b[0;34m=\u001b[0m \u001b[0marray\u001b[0m\u001b[0;34m[\u001b[0m\u001b[0mslices\u001b[0m\u001b[0;34m]\u001b[0m\u001b[0;34m\u001b[0m\u001b[0;34m\u001b[0m\u001b[0m\n",
            "\u001b[0;32m<ipython-input-63-419fdfab1e67>\u001b[0m in \u001b[0;36m<listcomp>\u001b[0;34m(.0)\u001b[0m\n\u001b[1;32m     10\u001b[0m     \u001b[0mslices\u001b[0m \u001b[0;34m=\u001b[0m \u001b[0;34m[\u001b[0m\u001b[0mslice\u001b[0m\u001b[0;34m(\u001b[0m\u001b[0mmax\u001b[0m\u001b[0;34m(\u001b[0m\u001b[0;36m0\u001b[0m\u001b[0;34m,\u001b[0m \u001b[0mc\u001b[0m \u001b[0;34m-\u001b[0m \u001b[0ms\u001b[0m \u001b[0;34m//\u001b[0m \u001b[0;36m2\u001b[0m\u001b[0;34m)\u001b[0m\u001b[0;34m,\u001b[0m \u001b[0mmin\u001b[0m\u001b[0;34m(\u001b[0m\u001b[0mc\u001b[0m \u001b[0;34m+\u001b[0m \u001b[0;34m(\u001b[0m\u001b[0ms\u001b[0m \u001b[0;34m+\u001b[0m \u001b[0;36m1\u001b[0m\u001b[0;34m)\u001b[0m \u001b[0;34m//\u001b[0m \u001b[0;36m2\u001b[0m\u001b[0;34m,\u001b[0m \u001b[0ma\u001b[0m\u001b[0;34m)\u001b[0m\u001b[0;34m)\u001b[0m \u001b[0;32mfor\u001b[0m \u001b[0mc\u001b[0m\u001b[0;34m,\u001b[0m \u001b[0ms\u001b[0m\u001b[0;34m,\u001b[0m \u001b[0ma\u001b[0m \u001b[0;32min\u001b[0m \u001b[0mzip\u001b[0m\u001b[0;34m(\u001b[0m\u001b[0mcenter\u001b[0m\u001b[0;34m,\u001b[0m \u001b[0mshape\u001b[0m\u001b[0;34m,\u001b[0m \u001b[0marray\u001b[0m\u001b[0;34m.\u001b[0m\u001b[0mshape\u001b[0m\u001b[0;34m)\u001b[0m\u001b[0;34m]\u001b[0m\u001b[0;34m\u001b[0m\u001b[0;34m\u001b[0m\u001b[0m\n\u001b[1;32m     11\u001b[0m \u001b[0;34m\u001b[0m\u001b[0m\n\u001b[0;32m---> 12\u001b[0;31m     \u001b[0msubpart_slices\u001b[0m \u001b[0;34m=\u001b[0m \u001b[0;34m[\u001b[0m\u001b[0mslice\u001b[0m\u001b[0;34m(\u001b[0m\u001b[0mmax\u001b[0m\u001b[0;34m(\u001b[0m\u001b[0;36m0\u001b[0m\u001b[0;34m,\u001b[0m \u001b[0ms\u001b[0m\u001b[0;34m.\u001b[0m\u001b[0mstart\u001b[0m \u001b[0;34m-\u001b[0m \u001b[0mc\u001b[0m\u001b[0;34m.\u001b[0m\u001b[0mstart\u001b[0m\u001b[0;34m)\u001b[0m\u001b[0;34m,\u001b[0m \u001b[0mmin\u001b[0m\u001b[0;34m(\u001b[0m\u001b[0ms\u001b[0m\u001b[0;34m.\u001b[0m\u001b[0mstop\u001b[0m \u001b[0;34m-\u001b[0m \u001b[0mc\u001b[0m\u001b[0;34m.\u001b[0m\u001b[0mstart\u001b[0m\u001b[0;34m,\u001b[0m \u001b[0ms\u001b[0m\u001b[0;34m.\u001b[0m\u001b[0mstop\u001b[0m \u001b[0;34m-\u001b[0m \u001b[0mc\u001b[0m\u001b[0;34m.\u001b[0m\u001b[0mstart\u001b[0m \u001b[0;34m+\u001b[0m \u001b[0mc\u001b[0m\u001b[0;34m.\u001b[0m\u001b[0mstop\u001b[0m \u001b[0;34m-\u001b[0m \u001b[0ms\u001b[0m\u001b[0;34m.\u001b[0m\u001b[0mstop\u001b[0m\u001b[0;34m)\u001b[0m\u001b[0;34m)\u001b[0m \u001b[0;32mfor\u001b[0m \u001b[0mc\u001b[0m\u001b[0;34m,\u001b[0m \u001b[0ms\u001b[0m \u001b[0;32min\u001b[0m \u001b[0mzip\u001b[0m\u001b[0;34m(\u001b[0m\u001b[0mcenter\u001b[0m\u001b[0;34m,\u001b[0m \u001b[0mslices\u001b[0m\u001b[0;34m)\u001b[0m\u001b[0;34m]\u001b[0m\u001b[0;34m\u001b[0m\u001b[0;34m\u001b[0m\u001b[0m\n\u001b[0m\u001b[1;32m     13\u001b[0m \u001b[0;34m\u001b[0m\u001b[0m\n\u001b[1;32m     14\u001b[0m     \u001b[0msubpart\u001b[0m\u001b[0;34m[\u001b[0m\u001b[0msubpart_slices\u001b[0m\u001b[0;34m]\u001b[0m \u001b[0;34m=\u001b[0m \u001b[0marray\u001b[0m\u001b[0;34m[\u001b[0m\u001b[0mslices\u001b[0m\u001b[0;34m]\u001b[0m\u001b[0;34m\u001b[0m\u001b[0;34m\u001b[0m\u001b[0m\n",
            "\u001b[0;31mAttributeError\u001b[0m: 'int' object has no attribute 'start'"
          ]
        }
      ],
      "source": [
        "\n",
        "import numpy as np\n",
        "\n",
        "def extract_subpart(array, center, shape, fill_value=0):\n",
        "    array = np.array(array)\n",
        "    center = tuple(center)\n",
        "    shape = tuple(shape)\n",
        "\n",
        "    subpart = np.full(shape, fill_value)\n",
        "\n",
        "    slices = [slice(max(0, c - s // 2), min(c + (s + 1) // 2, a)) for c, s, a in zip(center, shape, array.shape)]\n",
        "\n",
        "    subpart_slices = [slice(max(0, s.start - c.start), min(s.stop - c.start, s.stop - c.start + c.stop - s.stop)) for c, s in zip(center, slices)]\n",
        "\n",
        "    subpart[subpart_slices] = array[slices]\n",
        "\n",
        "    return subpart\n",
        "\n",
        "# Example usage:\n",
        "original_array = np.array([[1, 2, 3], [4, 5, 6], [7, 8, 9]])\n",
        "center_element = (1, 1)\n",
        "desired_shape = (2, 2)\n",
        "fill_value = 0\n",
        "\n",
        "result = extract_subpart(original_array, center_element, desired_shape, fill_value)\n",
        "print(result)"
      ],
      "id": "ec2b7ae3"
    },
    {
      "cell_type": "markdown",
      "metadata": {
        "id": "27794913"
      },
      "source": [
        "#### 81. Consider an array Z = [1,2,3,4,5,6,7,8,9,10,11,12,13,14], how to generate an array R = [[1,2,3,4], [2,3,4,5], [3,4,5,6], ..., [11,12,13,14]]? (★★★)"
      ],
      "id": "27794913"
    },
    {
      "cell_type": "code",
      "execution_count": null,
      "metadata": {
        "id": "f3e7878b",
        "colab": {
          "base_uri": "https://localhost:8080/"
        },
        "outputId": "2b321f8f-67c9-432f-c7f0-60a4896a9240"
      },
      "outputs": [
        {
          "output_type": "stream",
          "name": "stdout",
          "text": [
            "[[ 1  2  3  4]\n",
            " [ 2  3  4  5]\n",
            " [ 3  4  5  6]\n",
            " [ 4  5  6  7]\n",
            " [ 5  6  7  8]\n",
            " [ 6  7  8  9]\n",
            " [ 7  8  9 10]\n",
            " [ 8  9 10 11]\n",
            " [ 9 10 11 12]\n",
            " [10 11 12 13]\n",
            " [11 12 13 14]]\n"
          ]
        }
      ],
      "source": [
        "\n",
        "import numpy as np\n",
        "\n",
        "Z = np.array([1, 2, 3, 4, 5, 6, 7, 8, 9, 10, 11, 12, 13, 14])\n",
        "\n",
        "window_size = 4\n",
        "R = [Z[i:i + window_size] for i in range(len(Z) - window_size + 1)]\n",
        "\n",
        "result = np.array(R)\n",
        "print(result)"
      ],
      "id": "f3e7878b"
    },
    {
      "cell_type": "markdown",
      "metadata": {
        "id": "fae786f5"
      },
      "source": [
        "#### 82. Compute a matrix rank (★★★)"
      ],
      "id": "fae786f5"
    },
    {
      "cell_type": "code",
      "execution_count": null,
      "metadata": {
        "id": "64b9615b",
        "colab": {
          "base_uri": "https://localhost:8080/"
        },
        "outputId": "d9a87daf-b894-4c80-b3f4-164f192a76b9"
      },
      "outputs": [
        {
          "output_type": "stream",
          "name": "stdout",
          "text": [
            "[[ 1  2  3  4]\n",
            " [ 2  3  4  5]\n",
            " [ 3  4  5  6]\n",
            " [ 4  5  6  7]\n",
            " [ 5  6  7  8]\n",
            " [ 6  7  8  9]\n",
            " [ 7  8  9 10]\n",
            " [ 8  9 10 11]\n",
            " [ 9 10 11 12]\n",
            " [10 11 12 13]\n",
            " [11 12 13 14]]\n"
          ]
        }
      ],
      "source": [
        "\n",
        "import numpy as np\n",
        "\n",
        "Z = np.array([1, 2, 3, 4, 5, 6, 7, 8, 9, 10, 11, 12, 13, 14])\n",
        "\n",
        "window_size = 4\n",
        "R = [Z[i:i + window_size] for i in range(len(Z) - window_size + 1)]\n",
        "\n",
        "result = np.array(R)\n",
        "print(result)"
      ],
      "id": "64b9615b"
    },
    {
      "cell_type": "markdown",
      "metadata": {
        "id": "c85aa0b9"
      },
      "source": [
        "#### 83. How to find the most frequent value in an array?"
      ],
      "id": "c85aa0b9"
    },
    {
      "cell_type": "code",
      "execution_count": null,
      "metadata": {
        "id": "056be85b",
        "colab": {
          "base_uri": "https://localhost:8080/"
        },
        "outputId": "79b7f33a-55d3-4ea2-853d-6d8cfa9ae163"
      },
      "outputs": [
        {
          "output_type": "stream",
          "name": "stdout",
          "text": [
            "The most frequent value is: 4\n"
          ]
        }
      ],
      "source": [
        "\n",
        "import numpy as np\n",
        "\n",
        "# Example array\n",
        "my_array = np.array([1, 2, 3, 4, 2, 2, 3, 4, 4, 4, 5])\n",
        "\n",
        "# Find the most frequent value\n",
        "most_frequent_value = np.bincount(my_array).argmax()\n",
        "\n",
        "print(f\"The most frequent value is: {most_frequent_value}\")"
      ],
      "id": "056be85b"
    },
    {
      "cell_type": "markdown",
      "metadata": {
        "id": "0ff2344d"
      },
      "source": [
        "#### 84. Extract all the contiguous 3x3 blocks from a random 10x10 matrix (★★★)"
      ],
      "id": "0ff2344d"
    },
    {
      "cell_type": "code",
      "execution_count": null,
      "metadata": {
        "id": "d58b1318",
        "colab": {
          "base_uri": "https://localhost:8080/",
          "height": 193
        },
        "outputId": "773aedec-6a13-43ee-c7fc-852bbd33b3e7"
      },
      "outputs": [
        {
          "output_type": "error",
          "ename": "SyntaxError",
          "evalue": "ignored",
          "traceback": [
            "\u001b[0;36m  File \u001b[0;32m\"<ipython-input-68-bd12509f33ef>\"\u001b[0;36m, line \u001b[0;32m1\u001b[0m\n\u001b[0;31m    5 8 3   8 3 2   3 2 1   2 1 7   1 7 4   7 4 6   4 6 9   6 9 0\u001b[0m\n\u001b[0m      ^\u001b[0m\n\u001b[0;31mSyntaxError\u001b[0m\u001b[0;31m:\u001b[0m invalid syntax\n"
          ]
        }
      ],
      "source": [
        "\n",
        "5 8 3   8 3 2   3 2 1   2 1 7   1 7 4   7 4 6   4 6 9   6 9 0\n",
        "2 4 6   4 6 1   6 1 9   1 9 3   9 3 8   3 8 7   8 7 5   7 5 2\n",
        "9 1 7   1 7 5   7 5 8   5 8 6   8 6 0   6 0 3   0 3 2   3 2 4\n",
        "\n",
        "3 5 8   5 8 7   8 7 4   7 4 2   4 2 9   2 9 1   9 1 0   1 0 6\n",
        "0 7 2   7 2 9   2 9 6   9 6 1   6 1 3   1 3 8   3 8 4   8 4 5\n",
        "6 9 4   9 4 3   4 3 0   3 0 8   0 8 5   8 5 2   5 2 7   2 7 1\n",
        "\n",
        "8 3 1   3 1 4   1 4 2\n",
        "4 2 9   2 9 6   9 6 8\n",
        "7 0 5   0 5 8   5 8 3"
      ],
      "id": "d58b1318"
    },
    {
      "cell_type": "markdown",
      "metadata": {
        "id": "1a18b263"
      },
      "source": [
        "#### 85. Create a 2D array subclass such that Z[i,j] == Z[j,i] (★★★)"
      ],
      "id": "1a18b263"
    },
    {
      "cell_type": "code",
      "execution_count": null,
      "metadata": {
        "id": "87f17adc",
        "colab": {
          "base_uri": "https://localhost:8080/"
        },
        "outputId": "2e36d167-ddae-413d-902d-2a92801596dc"
      },
      "outputs": [
        {
          "output_type": "stream",
          "name": "stdout",
          "text": [
            "[0, 0, 0, 8]\n",
            "[0, 0, 5, 0]\n",
            "[0, 5, 0, 0]\n",
            "[8, 0, 0, 0]\n"
          ]
        }
      ],
      "source": [
        "\n",
        "class SymmetricArray(list):\n",
        "    def __init__(self, size):\n",
        "        super().__init__([([0] * size) for _ in range(size)])\n",
        "        self.size = size\n",
        "\n",
        "    def __getitem__(self, index):\n",
        "        i, j = index\n",
        "        if i > j:\n",
        "            i, j = j, i  # Swap indices if i > j\n",
        "        return super().__getitem__(i).__getitem__(j)\n",
        "\n",
        "    def __setitem__(self, index, value):\n",
        "        i, j = index\n",
        "        if i > j:\n",
        "            i, j = j, i  # Swap indices if i > j\n",
        "        super().__getitem__(i).__setitem__(j, value)\n",
        "        super().__getitem__(j).__setitem__(i, value)\n",
        "\n",
        "# Example usage:\n",
        "size = 4\n",
        "symmetric_array = SymmetricArray(size)\n",
        "\n",
        "# Set values\n",
        "symmetric_array[1, 2] = 5\n",
        "symmetric_array[3, 0] = 8\n",
        "\n",
        "# Print the array\n",
        "for row in symmetric_array:\n",
        "    print(row)"
      ],
      "id": "87f17adc"
    },
    {
      "cell_type": "markdown",
      "metadata": {
        "id": "f85f2cad"
      },
      "source": [
        "#### 86. Consider a set of p matrices wich shape (n,n) and a set of p vectors with shape (n,1). How to compute the sum of of the p matrix products at once? (result has shape (n,1)) (★★★)"
      ],
      "id": "f85f2cad"
    },
    {
      "cell_type": "code",
      "execution_count": null,
      "metadata": {
        "id": "8d230557",
        "colab": {
          "base_uri": "https://localhost:8080/"
        },
        "outputId": "bdd853d4-a88b-422b-df78-0d54d07984a4"
      },
      "outputs": [
        {
          "output_type": "stream",
          "name": "stdout",
          "text": [
            "[0, 0, 0, 8]\n",
            "[0, 0, 5, 0]\n",
            "[0, 5, 0, 0]\n",
            "[8, 0, 0, 0]\n"
          ]
        }
      ],
      "source": [
        "\n",
        "class SymmetricArray(list):\n",
        "    def __init__(self, size):\n",
        "        super().__init__([([0] * size) for _ in range(size)])\n",
        "        self.size = size\n",
        "\n",
        "    def __getitem__(self, index):\n",
        "        i, j = index\n",
        "        if i > j:\n",
        "            i, j = j, i  # Swap indices if i > j\n",
        "        return super().__getitem__(i).__getitem__(j)\n",
        "\n",
        "    def __setitem__(self, index, value):\n",
        "        i, j = index\n",
        "        if i > j:\n",
        "            i, j = j, i  # Swap indices if i > j\n",
        "        super().__getitem__(i).__setitem__(j, value)\n",
        "        super().__getitem__(j).__setitem__(i, value)\n",
        "\n",
        "# Example usage:\n",
        "size = 4\n",
        "symmetric_array = SymmetricArray(size)\n",
        "\n",
        "# Set values\n",
        "symmetric_array[1, 2] = 5\n",
        "symmetric_array[3, 0] = 8\n",
        "\n",
        "# Print the array\n",
        "for row in symmetric_array:\n",
        "    print(row)"
      ],
      "id": "8d230557"
    },
    {
      "cell_type": "markdown",
      "metadata": {
        "id": "5afb72c8"
      },
      "source": [
        "#### 87. Consider a 16x16 array, how to get the block-sum (block size is 4x4)? (★★★)"
      ],
      "id": "5afb72c8"
    },
    {
      "cell_type": "code",
      "execution_count": null,
      "metadata": {
        "id": "e86f47a9",
        "colab": {
          "base_uri": "https://localhost:8080/"
        },
        "outputId": "9cc09c41-697b-4816-d046-a10f12dd9a50"
      },
      "outputs": [
        {
          "output_type": "stream",
          "name": "stdout",
          "text": [
            "[[66 87 76 67]\n",
            " [95 74 82 94]\n",
            " [77 89 71 77]\n",
            " [70 70 69 80]]\n"
          ]
        }
      ],
      "source": [
        "\n",
        "import numpy as np\n",
        "\n",
        "# Example 16x16 array\n",
        "array_16x16 = np.random.randint(1, 10, size=(16, 16))\n",
        "\n",
        "# Reshape the array into a 4D array with shape (4, 4, 4, 4)\n",
        "reshaped_array = array_16x16.reshape(4, 4, 4, 4)\n",
        "\n",
        "# Sum along the last two axes (axis=(2, 3)) to get the block-sum\n",
        "block_sum = reshaped_array.sum(axis=(2, 3))\n",
        "\n",
        "print(block_sum)"
      ],
      "id": "e86f47a9"
    },
    {
      "cell_type": "markdown",
      "metadata": {
        "id": "6094d37c"
      },
      "source": [
        "#### 88. How to implement the Game of Life using numpy arrays? (★★★)"
      ],
      "id": "6094d37c"
    },
    {
      "cell_type": "code",
      "execution_count": null,
      "metadata": {
        "id": "a93e715f",
        "colab": {
          "base_uri": "https://localhost:8080/",
          "height": 343
        },
        "outputId": "b503533f-3377-4d7b-dc24-962660280a06"
      },
      "outputs": [
        {
          "output_type": "stream",
          "name": "stderr",
          "text": [
            "<ipython-input-72-8054dc820e88>:41: UserWarning: You passed in an explicit save_count=50 which is being ignored in favor of frames=10.\n",
            "  ani = animation.FuncAnimation(fig, update, fargs=(img, grid, N), frames=10, interval=500, save_count=50)\n"
          ]
        },
        {
          "output_type": "display_data",
          "data": {
            "text/plain": [
              "<Figure size 640x480 with 1 Axes>"
            ],
            "image/png": "[encoded data removed]"
          },
          "metadata": {}
        }
      ],
      "source": [
        "\n",
        "import numpy as np\n",
        "import matplotlib.pyplot as plt\n",
        "import matplotlib.animation as animation\n",
        "\n",
        "def update(frameNum, img, grid, N):\n",
        "    # Copy the grid to apply the rules without modifying the original grid\n",
        "    newGrid = grid.copy()\n",
        "\n",
        "    for i in range(N):\n",
        "        for j in range(N):\n",
        "            # Compute the sum of the eight neighbors\n",
        "            total = int((grid[i, (j-1)%N] + grid[i, (j+1)%N] +\n",
        "                         grid[(i-1)%N, j] + grid[(i+1)%N, j] +\n",
        "                         grid[(i-1)%N, (j-1)%N] + grid[(i-1)%N, (j+1)%N] +\n",
        "                         grid[(i+1)%N, (j-1)%N] + grid[(i+1)%N, (j+1)%N]) / 255)\n",
        "\n",
        "            # Apply Conway's rules\n",
        "            if grid[i, j] == ON:\n",
        "                if (total < 2) or (total > 3):\n",
        "                    newGrid[i, j] = OFF\n",
        "            else:\n",
        "                if total == 3:\n",
        "                    newGrid[i, j] = ON\n",
        "\n",
        "    # Update the data of the image plot\n",
        "    img.set_data(newGrid)\n",
        "    grid[:] = newGrid[:]\n",
        "    return img\n",
        "\n",
        "# Constants\n",
        "ON = 255\n",
        "OFF = 0\n",
        "N = 100  # Size of the grid\n",
        "\n",
        "# Create a random initial grid\n",
        "grid = np.random.choice([ON, OFF], N*N, p=[0.2, 0.8]).reshape(N, N)\n",
        "\n",
        "# Set up the animation\n",
        "fig, ax = plt.subplots()\n",
        "img = ax.imshow(grid, interpolation='nearest', cmap='gray')\n",
        "ani = animation.FuncAnimation(fig, update, fargs=(img, grid, N), frames=10, interval=500, save_count=50)\n",
        "\n",
        "plt.show()"
      ],
      "id": "a93e715f"
    },
    {
      "cell_type": "markdown",
      "metadata": {
        "id": "a173cf96"
      },
      "source": [
        "#### 89. How to get the n largest values of an array (★★★)"
      ],
      "id": "a173cf96"
    },
    {
      "cell_type": "code",
      "execution_count": null,
      "metadata": {
        "id": "b7c2ff35",
        "colab": {
          "base_uri": "https://localhost:8080/"
        },
        "outputId": "3245c022-c678-4930-b40c-f3006e912938"
      },
      "outputs": [
        {
          "output_type": "stream",
          "name": "stdout",
          "text": [
            "Original Array: [3 1 4 1 5 9 2 6 5 3 5]\n",
            "3 Largest Values: [5 6 9]\n"
          ]
        }
      ],
      "source": [
        "\n",
        "import numpy as np\n",
        "\n",
        "# Example array\n",
        "arr = np.array([3, 1, 4, 1, 5, 9, 2, 6, 5, 3, 5])\n",
        "\n",
        "# Number of largest values to retrieve\n",
        "n_largest = 3\n",
        "\n",
        "# Use numpy.partition to get the indices of the n largest values\n",
        "indices = np.argpartition(arr, -n_largest)[-n_largest:]\n",
        "\n",
        "# Get the n largest values using the obtained indices\n",
        "n_largest_values = arr[indices]\n",
        "\n",
        "print(\"Original Array:\", arr)\n",
        "print(f\"{n_largest} Largest Values:\", n_largest_values)"
      ],
      "id": "b7c2ff35"
    },
    {
      "cell_type": "markdown",
      "metadata": {
        "id": "15db2d01"
      },
      "source": [
        "#### 90. Given an arbitrary number of vectors, build the cartesian product (every combinations of every item) (★★★)"
      ],
      "id": "15db2d01"
    },
    {
      "cell_type": "code",
      "execution_count": null,
      "metadata": {
        "id": "a9a4633d",
        "colab": {
          "base_uri": "https://localhost:8080/"
        },
        "outputId": "be31de38-ada6-4c6b-e94d-a7678f2952c0"
      },
      "outputs": [
        {
          "output_type": "stream",
          "name": "stdout",
          "text": [
            "[(1, 'A', True), (1, 'A', False), (1, 'B', True), (1, 'B', False), (2, 'A', True), (2, 'A', False), (2, 'B', True), (2, 'B', False)]\n"
          ]
        }
      ],
      "source": [
        "\n",
        "from itertools import product\n",
        "\n",
        "# Example vectors\n",
        "vector1 = [1, 2]\n",
        "vector2 = ['A', 'B']\n",
        "vector3 = [True, False]\n",
        "\n",
        "# Cartesian product of the vectors\n",
        "cartesian_product = list(product(vector1, vector2, vector3))\n",
        "\n",
        "print(cartesian_product)"
      ],
      "id": "a9a4633d"
    },
    {
      "cell_type": "markdown",
      "metadata": {
        "id": "5d94d1ef"
      },
      "source": [
        "#### 91. How to create a record array from a regular array? (★★★)"
      ],
      "id": "5d94d1ef"
    },
    {
      "cell_type": "code",
      "execution_count": null,
      "metadata": {
        "id": "b1dae380",
        "colab": {
          "base_uri": "https://localhost:8080/"
        },
        "outputId": "868f14f0-7785-417c-a234-38a2f1a54275"
      },
      "outputs": [
        {
          "output_type": "stream",
          "name": "stdout",
          "text": [
            "[(1, 'John', 25) (2, 'Jane', 30) (3, 'Bob', 22)]\n"
          ]
        }
      ],
      "source": [
        "\n",
        "import numpy as np\n",
        "\n",
        "# Regular array\n",
        "regular_array = np.array([(1, 'John', 25),\n",
        "                          (2, 'Jane', 30),\n",
        "                          (3, 'Bob', 22)],\n",
        "                         dtype=[('id', int), ('name', 'U10'), ('age', int)])\n",
        "\n",
        "# Convert to record array\n",
        "record_array = np.core.records.array(regular_array)\n",
        "\n",
        "print(record_array)"
      ],
      "id": "b1dae380"
    },
    {
      "cell_type": "markdown",
      "metadata": {
        "id": "114ccc36"
      },
      "source": [
        "#### 92. Consider a large vector Z, compute Z to the power of 3 using 3 different methods (★★★)"
      ],
      "id": "114ccc36"
    },
    {
      "cell_type": "code",
      "execution_count": null,
      "metadata": {
        "id": "877c65d6"
      },
      "outputs": [],
      "source": [
        "\n",
        "import numpy as np\n",
        "\n",
        "# Generate a large vector Z\n",
        "Z = np.random.rand(1000000)\n",
        "\n",
        "# Method 1: Using NumPy's Power Operator\n",
        "result_method1 = Z ** 3\n",
        "# Method 2: Using NumPy's Power Function\n",
        "result_method2 = np.power(Z, 3)\n",
        "# Method 3: Using NumPy's Element-wise Operation\n",
        "result_method3 = np.multiply.outer(Z, np.multiply.outer(Z, Z)).reshape(Z.shape)"
      ],
      "id": "877c65d6"
    },
    {
      "cell_type": "markdown",
      "metadata": {
        "id": "d614fee4"
      },
      "source": [
        "#### 93. Consider two arrays A and B of shape (8,3) and (2,2). How to find rows of A that contain elements of each row of B regardless of the order of the elements in B? (★★★)"
      ],
      "id": "d614fee4"
    },
    {
      "cell_type": "code",
      "execution_count": null,
      "metadata": {
        "id": "e6807a84",
        "colab": {
          "base_uri": "https://localhost:8080/"
        },
        "outputId": "150dcb25-c452-424e-d3fa-ef0672066ca9"
      },
      "outputs": [
        {
          "output_type": "stream",
          "name": "stdout",
          "text": [
            "Rows of A that contain elements of each row of B: []\n"
          ]
        }
      ],
      "source": [
        "\n",
        "import numpy as np\n",
        "\n",
        "# Example arrays\n",
        "A = np.array([[1, 2, 3],\n",
        "              [4, 5, 6],\n",
        "              [7, 8, 9],\n",
        "              [2, 3, 1],\n",
        "              [5, 4, 6],\n",
        "              [8, 7, 9],\n",
        "              [1, 2, 3],\n",
        "              [6, 5, 4]])\n",
        "\n",
        "B = np.array([[1, 2],\n",
        "              [4, 5]])\n",
        "\n",
        "# Find rows of A that contain elements of each row of B\n",
        "result_rows = []\n",
        "for row_b in B:\n",
        "    mask = np.all(np.isin(A, row_b), axis=1)\n",
        "    result_rows.extend(np.where(mask)[0])\n",
        "\n",
        "result_rows = np.unique(result_rows)\n",
        "\n",
        "print(\"Rows of A that contain elements of each row of B:\", result_rows)"
      ],
      "id": "e6807a84"
    },
    {
      "cell_type": "markdown",
      "metadata": {
        "id": "b0eedca6"
      },
      "source": [
        "#### 94. Considering a 10x3 matrix, extract rows with unequal values (e.g. [2,2,3]) (★★★)"
      ],
      "id": "b0eedca6"
    },
    {
      "cell_type": "code",
      "execution_count": null,
      "metadata": {
        "id": "fc136ce2",
        "colab": {
          "base_uri": "https://localhost:8080/"
        },
        "outputId": "59d25f47-44de-4ed5-c938-0aa540d68b9c"
      },
      "outputs": [
        {
          "output_type": "stream",
          "name": "stdout",
          "text": [
            "Rows with unequal values:\n",
            "[[1 2 3]\n",
            " [2 2 3]\n",
            " [5 6 7]\n",
            " [8 8 9]\n",
            " [2 2 3]]\n"
          ]
        }
      ],
      "source": [
        "\n",
        "import numpy as np\n",
        "\n",
        "# Example 10x3 matrix\n",
        "matrix = np.array([[1, 2, 3],\n",
        "                   [2, 2, 3],\n",
        "                   [4, 4, 4],\n",
        "                   [5, 6, 7],\n",
        "                   [8, 8, 9],\n",
        "                   [2, 2, 3],\n",
        "                   [1, 1, 1],\n",
        "                   [9, 9, 9],\n",
        "                   [2, 2, 2],\n",
        "                   [3, 3, 3]])\n",
        "\n",
        "# Extract rows with unequal values\n",
        "unequal_rows = matrix[~np.all(matrix[:, 1:] == matrix[:, :-1], axis=1)]\n",
        "\n",
        "print(\"Rows with unequal values:\")\n",
        "print(unequal_rows)"
      ],
      "id": "fc136ce2"
    },
    {
      "cell_type": "markdown",
      "metadata": {
        "id": "a65ec1cf"
      },
      "source": [
        "#### 95. Convert a vector of ints into a matrix binary representation (★★★)"
      ],
      "id": "a65ec1cf"
    },
    {
      "cell_type": "code",
      "execution_count": null,
      "metadata": {
        "id": "323cdf4c",
        "colab": {
          "base_uri": "https://localhost:8080/",
          "height": 505
        },
        "outputId": "b8a36784-88d5-47e2-e10d-d101939b0b70"
      },
      "outputs": [
        {
          "output_type": "error",
          "ename": "ValueError",
          "evalue": "ignored",
          "traceback": [
            "\u001b[0;31m---------------------------------------------------------------------------\u001b[0m",
            "\u001b[0;31mValueError\u001b[0m                                Traceback (most recent call last)",
            "\u001b[0;32m<ipython-input-3-4942ab2023d1>\u001b[0m in \u001b[0;36m<cell line: 7>\u001b[0;34m()\u001b[0m\n\u001b[1;32m      5\u001b[0m \u001b[0;34m\u001b[0m\u001b[0m\n\u001b[1;32m      6\u001b[0m \u001b[0;31m# Convert to matrix binary representation\u001b[0m\u001b[0;34m\u001b[0m\u001b[0;34m\u001b[0m\u001b[0m\n\u001b[0;32m----> 7\u001b[0;31m \u001b[0mbinary_matrix\u001b[0m \u001b[0;34m=\u001b[0m \u001b[0mnp\u001b[0m\u001b[0;34m.\u001b[0m\u001b[0marray\u001b[0m\u001b[0;34m(\u001b[0m\u001b[0mlist\u001b[0m\u001b[0;34m(\u001b[0m\u001b[0mmap\u001b[0m\u001b[0;34m(\u001b[0m\u001b[0mlist\u001b[0m\u001b[0;34m,\u001b[0m \u001b[0mmap\u001b[0m\u001b[0;34m(\u001b[0m\u001b[0mnp\u001b[0m\u001b[0;34m.\u001b[0m\u001b[0mbinary_repr\u001b[0m\u001b[0;34m,\u001b[0m \u001b[0mint_vector\u001b[0m\u001b[0;34m)\u001b[0m\u001b[0;34m)\u001b[0m\u001b[0;34m)\u001b[0m\u001b[0;34m,\u001b[0m \u001b[0mdtype\u001b[0m\u001b[0;34m=\u001b[0m\u001b[0mint\u001b[0m\u001b[0;34m)\u001b[0m\u001b[0;34m\u001b[0m\u001b[0;34m\u001b[0m\u001b[0m\n\u001b[0m\u001b[1;32m      8\u001b[0m \u001b[0;34m\u001b[0m\u001b[0m\n\u001b[1;32m      9\u001b[0m \u001b[0mprint\u001b[0m\u001b[0;34m(\u001b[0m\u001b[0;34m\"Vector of Integers:\"\u001b[0m\u001b[0;34m)\u001b[0m\u001b[0;34m\u001b[0m\u001b[0;34m\u001b[0m\u001b[0m\n",
            "\u001b[0;31mValueError\u001b[0m: setting an array element with a sequence. The requested array has an inhomogeneous shape after 1 dimensions. The detected shape was (4,) + inhomogeneous part."
          ]
        }
      ],
      "source": [
        "\n",
        "import numpy as np\n",
        "\n",
        "# Example vector of integers\n",
        "int_vector = np.array([5, 10, 3, 7])\n",
        "\n",
        "# Convert to matrix binary representation\n",
        "binary_matrix = np.array(list(map(list, map(np.binary_repr, int_vector))), dtype=int)\n",
        "\n",
        "print(\"Vector of Integers:\")\n",
        "print(int_vector)\n",
        "\n",
        "print(\"\\nMatrix Binary Representation:\")\n",
        "print(binary_matrix)"
      ],
      "id": "323cdf4c"
    },
    {
      "cell_type": "markdown",
      "metadata": {
        "id": "75b9397f"
      },
      "source": [
        "#### 96. Given a two dimensional array, how to extract unique rows? (★★★)"
      ],
      "id": "75b9397f"
    },
    {
      "cell_type": "code",
      "execution_count": null,
      "metadata": {
        "id": "9bb56a47",
        "colab": {
          "base_uri": "https://localhost:8080/"
        },
        "outputId": "ca69804c-2f04-4465-b3fd-3dbcb47c3623"
      },
      "outputs": [
        {
          "output_type": "stream",
          "name": "stdout",
          "text": [
            "Original Array:\n",
            "[[1 2 3]\n",
            " [4 5 6]\n",
            " [1 2 3]\n",
            " [7 8 9]\n",
            " [4 5 6]]\n",
            "\n",
            "Unique Rows:\n",
            "[[1 2 3]\n",
            " [4 5 6]\n",
            " [7 8 9]]\n"
          ]
        }
      ],
      "source": [
        "\n",
        "import numpy as np\n",
        "\n",
        "# Example two-dimensional array\n",
        "two_d_array = np.array([[1, 2, 3],\n",
        "                        [4, 5, 6],\n",
        "                        [1, 2, 3],\n",
        "                        [7, 8, 9],\n",
        "                        [4, 5, 6]])\n",
        "\n",
        "# Extract unique rows\n",
        "unique_rows = np.unique(two_d_array, axis=0)\n",
        "\n",
        "print(\"Original Array:\")\n",
        "print(two_d_array)\n",
        "\n",
        "print(\"\\nUnique Rows:\")\n",
        "print(unique_rows)"
      ],
      "id": "9bb56a47"
    },
    {
      "cell_type": "markdown",
      "metadata": {
        "id": "82aaf21b"
      },
      "source": [
        "#### 97. Considering 2 vectors A & B, write the einsum equivalent of inner, outer, sum, and mul function (★★★)"
      ],
      "id": "82aaf21b"
    },
    {
      "cell_type": "code",
      "execution_count": null,
      "metadata": {
        "id": "cedcefd9"
      },
      "outputs": [],
      "source": [
        "\n",
        "import numpy as np\n",
        "\n",
        "A = np.array([1, 2, 3])\n",
        "B = np.array([4, 5, 6])\n",
        "\n",
        "inner_product = np.einsum('i,i->', A, B)\n",
        "import numpy as np\n",
        "\n",
        "A = np.array([1, 2, 3])\n",
        "B = np.array([4, 5, 6])\n",
        "\n",
        "outer_product = np.einsum('i,j->ij', A, B)\n",
        "import numpy as np\n",
        "\n",
        "A = np.array([1, 2, 3])\n",
        "B = np.array([4, 5, 6])\n",
        "\n",
        "elementwise_multiplication = np.einsum('i,i->i', A, B)\n",
        "# or\n",
        "elementwise_multiplication_alternative = np.multiply(A, B)\n",
        "# or\n",
        "elementwise_multiplication_alternative_2 = A * B"
      ],
      "id": "cedcefd9"
    },
    {
      "cell_type": "markdown",
      "metadata": {
        "id": "7741e17f"
      },
      "source": [
        "#### 98. Considering a path described by two vectors (X,Y), how to sample it using equidistant samples (★★★)?"
      ],
      "id": "7741e17f"
    },
    {
      "cell_type": "code",
      "execution_count": null,
      "metadata": {
        "id": "0b2432fe",
        "colab": {
          "base_uri": "https://localhost:8080/",
          "height": 223
        },
        "outputId": "03590eb3-202c-4b7f-8849-ae6a7dfcc89d"
      },
      "outputs": [
        {
          "output_type": "display_data",
          "data": {
            "text/plain": [
              "<Figure size 640x480 with 1 Axes>"
            ],
            "image/png": "[encoded data removed]"
          },
          "metadata": {}
        }
      ],
      "source": [
        "\n",
        "import numpy as np\n",
        "import matplotlib.pyplot as plt\n",
        "\n",
        "# Example vectors X and Y\n",
        "X = np.array([0, 1, 3, 6, 8])\n",
        "Y = np.array([0, 2, 1, 4, 3])\n",
        "\n",
        "# Number of equidistant samples\n",
        "num_samples = 20\n",
        "\n",
        "# Linearly interpolate to get equidistant samples\n",
        "t = np.linspace(0, 1, num_samples)\n",
        "sampled_X = np.interp(t, np.linspace(0, 1, len(X)), X)\n",
        "sampled_Y = np.interp(t, np.linspace(0, 1, len(Y)), Y)\n",
        "\n",
        "# Plot the original path and the equidistant samples\n",
        "plt.plot(X, Y, 'o-', label='Original Path')\n",
        "plt.plot(sampled_X, sampled_Y, 's', label=f'Equidistant Samples ({num_samples} points)')\n",
        "plt.legend()\n",
        "plt.xlabel('X')\n",
        "plt.ylabel('Y')\n",
        "plt.show()"
      ],
      "id": "0b2432fe"
    },
    {
      "cell_type": "markdown",
      "metadata": {
        "id": "340d6f36"
      },
      "source": [
        "#### 99. Given an integer n and a 2D array X, select from X the rows which can be interpreted as draws from a multinomial distribution with n degrees, i.e., the rows which only contain integers and which sum to n. (★★★)"
      ],
      "id": "340d6f36"
    },
    {
      "cell_type": "code",
      "execution_count": null,
      "metadata": {
        "id": "a75323ae",
        "colab": {
          "base_uri": "https://localhost:8080/"
        },
        "outputId": "a74bf9d8-1c98-4a5e-cc23-91fb8569f21a"
      },
      "outputs": [
        {
          "output_type": "stream",
          "name": "stdout",
          "text": [
            "Original 2D Array:\n",
            "[[1 2 3]\n",
            " [4 1 2]\n",
            " [2 3 1]\n",
            " [3 2 1]]\n",
            "\n",
            "Rows interpreted as multinomial draws with total count 6 :\n",
            "[array([1, 2, 3]), array([2, 3, 1]), array([3, 2, 1])]\n"
          ]
        }
      ],
      "source": [
        "\n",
        "import numpy as np\n",
        "\n",
        "def is_multinomial_draw(row, n):\n",
        "    # Check if the row contains only integers and the sum is equal to n\n",
        "    return np.all(np.equal(np.mod(row, 1), 0)) and np.sum(row) == n\n",
        "\n",
        "# Example 2D array\n",
        "X = np.array([[1, 2, 3],\n",
        "              [4, 1, 2],\n",
        "              [2, 3, 1],\n",
        "              [3, 2, 1]])\n",
        "\n",
        "# Total count for multinomial distribution\n",
        "n = 6\n",
        "\n",
        "# Select rows that meet the multinomial criteria\n",
        "selected_rows = [row for row in X if is_multinomial_draw(row, n)]\n",
        "\n",
        "print(\"Original 2D Array:\")\n",
        "print(X)\n",
        "\n",
        "print(\"\\nRows interpreted as multinomial draws with total count\", n, \":\")\n",
        "print(selected_rows)"
      ],
      "id": "a75323ae"
    },
    {
      "cell_type": "markdown",
      "metadata": {
        "id": "19721849"
      },
      "source": [
        "#### 100. Compute bootstrapped 95% confidence intervals for the mean of a 1D array X (i.e., resample the elements of an array with replacement N times, compute the mean of each sample, and then compute percentiles over the means). (★★★)"
      ],
      "id": "19721849"
    },
    {
      "cell_type": "code",
      "execution_count": null,
      "metadata": {
        "id": "87309c6f",
        "colab": {
          "base_uri": "https://localhost:8080/"
        },
        "outputId": "223c315b-8591-4511-ab7e-ed0c0bb42e45"
      },
      "outputs": [
        {
          "output_type": "stream",
          "name": "stdout",
          "text": [
            "1D Array:\n",
            "[3 5 7 2 8 4 6 1 9 5]\n",
            "\n",
            "Bootstrapped 95% Confidence Interval for the Mean:\n",
            "[3.5 6.5]\n"
          ]
        }
      ],
      "source": [
        "\n",
        "import numpy as np\n",
        "\n",
        "# Example 1D array\n",
        "X = np.array([3, 5, 7, 2, 8, 4, 6, 1, 9, 5])\n",
        "\n",
        "# Number of bootstrap samples\n",
        "N = 1000\n",
        "\n",
        "# Bootstrap resampling and computation of means\n",
        "bootstrap_means = [np.mean(np.random.choice(X, len(X), replace=True)) for _ in range(N)]\n",
        "\n",
        "# Compute 95% confidence interval\n",
        "confidence_interval = np.percentile(bootstrap_means, [2.5, 97.5])\n",
        "\n",
        "print(\"1D Array:\")\n",
        "print(X)\n",
        "\n",
        "print(\"\\nBootstrapped 95% Confidence Interval for the Mean:\")\n",
        "print(confidence_interval)"
      ],
      "id": "87309c6f"
    }
  ],
  "metadata": {
    "colab": {
      "collapsed_sections": [
        "cfc46304",
        "0cc200be",
        "29d9ede4",
        "88905ceb",
        "49603e91",
        "e15c249a",
        "157a129c",
        "d92d7b32",
        "f361efc0",
        "475808cb",
        "1af07d85",
        "6a235316",
        "25362e98",
        "6431e977",
        "31abe6fe",
        "fd88b3f4",
        "464d8590",
        "06c63bb3",
        "76fa6285",
        "930ed8bb",
        "177120e7",
        "a6eaf0e8",
        "524b65f8",
        "8dc40752",
        "b7f38e21",
        "2d850aab",
        "5c4a556f",
        "453cdd64",
        "52667b6e",
        "9a8f3738",
        "cab1eed1",
        "cd0ce6b1",
        "c4c942d1",
        "9b3cb8d2",
        "2facfddc"
      ],
      "provenance": [],
      "include_colab_link": true
    },
    "kernelspec": {
      "display_name": "Python 3",
      "name": "python3"
    },
    "language_info": {
      "name": "python"
    }
  },
  "nbformat": 4,
  "nbformat_minor": 5
}